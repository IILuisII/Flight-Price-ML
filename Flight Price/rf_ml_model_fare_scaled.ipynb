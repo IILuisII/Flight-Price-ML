{
 "cells": [
  {
   "cell_type": "code",
   "execution_count": 1,
   "metadata": {},
   "outputs": [
    {
     "data": {
      "text/html": [
       "<style>.container { width:93% !important; }</style>"
      ],
      "text/plain": [
       "<IPython.core.display.HTML object>"
      ]
     },
     "metadata": {},
     "output_type": "display_data"
    }
   ],
   "source": [
    "from IPython.core.display import display, HTML\n",
    "display(HTML(\"<style>.container { width:93% !important; }</style>\"))"
   ]
  },
  {
   "cell_type": "code",
   "execution_count": 2,
   "metadata": {},
   "outputs": [],
   "source": [
    "# visualizations\n",
    "import matplotlib.pyplot as plt\n",
    "import seaborn as sn\n",
    "\n",
    "# machine learning\n",
    "from sklearn.linear_model import LogisticRegression\n",
    "from sklearn.neighbors import KNeighborsClassifier\n",
    "from sklearn.svm import SVC\n",
    "\n",
    "from sklearn.tree import DecisionTreeClassifier\n",
    "from sklearn.ensemble import BaggingClassifier\n",
    "from sklearn.ensemble import RandomForestClassifier\n",
    "from sklearn.ensemble import AdaBoostClassifier\n",
    "from sklearn.ensemble import GradientBoostingClassifier\n",
    "\n",
    "# machine learning processing\n",
    "from sklearn.model_selection import train_test_split\n",
    "from sklearn.preprocessing import StandardScaler\n",
    "\n",
    "#import metrics\n",
    "from sklearn.metrics import accuracy_score\n",
    "from sklearn.metrics import classification_report\n",
    "from sklearn.metrics import confusion_matrix\n",
    "from sklearn.metrics import roc_auc_score\n",
    "from scikitplot.metrics import plot_roc, plot_confusion_matrix\n",
    "\n",
    "from xgboost import XGBClassifier\n",
    "\n",
    "#basic imports\n",
    "import pandas as pd\n",
    "import numpy as np\n",
    "import os"
   ]
  },
  {
   "cell_type": "code",
   "execution_count": 3,
   "metadata": {},
   "outputs": [
    {
     "data": {
      "text/html": [
       "<div>\n",
       "<style scoped>\n",
       "    .dataframe tbody tr th:only-of-type {\n",
       "        vertical-align: middle;\n",
       "    }\n",
       "\n",
       "    .dataframe tbody tr th {\n",
       "        vertical-align: top;\n",
       "    }\n",
       "\n",
       "    .dataframe thead th {\n",
       "        text-align: right;\n",
       "    }\n",
       "</style>\n",
       "<table border=\"1\" class=\"dataframe\">\n",
       "  <thead>\n",
       "    <tr style=\"text-align: right;\">\n",
       "      <th></th>\n",
       "      <th>Itinerary_ID</th>\n",
       "      <th>Year</th>\n",
       "      <th>Quarter</th>\n",
       "      <th>Number_Coupons</th>\n",
       "      <th>Origin_Airport_ID</th>\n",
       "      <th>Origin_Airport_Seq_ID</th>\n",
       "      <th>Origin_City_Market_ID</th>\n",
       "      <th>Origin</th>\n",
       "      <th>Origin_State</th>\n",
       "      <th>Origin_WAC</th>\n",
       "      <th>...</th>\n",
       "      <th>Origin_Airport</th>\n",
       "      <th>Origin_City</th>\n",
       "      <th>Origin_Lat</th>\n",
       "      <th>Origin_Long</th>\n",
       "      <th>Destination_Airport</th>\n",
       "      <th>Destination_City</th>\n",
       "      <th>State</th>\n",
       "      <th>Country</th>\n",
       "      <th>Destination_Lat</th>\n",
       "      <th>Destination_Long</th>\n",
       "    </tr>\n",
       "  </thead>\n",
       "  <tbody>\n",
       "    <tr>\n",
       "      <th>33238</th>\n",
       "      <td>20201309557</td>\n",
       "      <td>2020</td>\n",
       "      <td>1</td>\n",
       "      <td>4</td>\n",
       "      <td>14843</td>\n",
       "      <td>1484306</td>\n",
       "      <td>34819</td>\n",
       "      <td>SJU</td>\n",
       "      <td>PR</td>\n",
       "      <td>3</td>\n",
       "      <td>...</td>\n",
       "      <td>Luis Muñoz Marín International Airport</td>\n",
       "      <td>San Juan</td>\n",
       "      <td>18.43942</td>\n",
       "      <td>-66.00183</td>\n",
       "      <td>Miami International Airport</td>\n",
       "      <td>Miami</td>\n",
       "      <td>FL</td>\n",
       "      <td>USA</td>\n",
       "      <td>25.79325</td>\n",
       "      <td>-80.29056</td>\n",
       "    </tr>\n",
       "    <tr>\n",
       "      <th>31402</th>\n",
       "      <td>2020171849</td>\n",
       "      <td>2020</td>\n",
       "      <td>1</td>\n",
       "      <td>4</td>\n",
       "      <td>13485</td>\n",
       "      <td>1348502</td>\n",
       "      <td>33485</td>\n",
       "      <td>MSN</td>\n",
       "      <td>WI</td>\n",
       "      <td>45</td>\n",
       "      <td>...</td>\n",
       "      <td>Dane County Regional Airport</td>\n",
       "      <td>Madison</td>\n",
       "      <td>43.13986</td>\n",
       "      <td>-89.33751</td>\n",
       "      <td>LaGuardia Airport (Marine Air Terminal)</td>\n",
       "      <td>New York</td>\n",
       "      <td>NY</td>\n",
       "      <td>USA</td>\n",
       "      <td>40.77724</td>\n",
       "      <td>-73.87261</td>\n",
       "    </tr>\n",
       "    <tr>\n",
       "      <th>54983</th>\n",
       "      <td>20201411032</td>\n",
       "      <td>2020</td>\n",
       "      <td>1</td>\n",
       "      <td>2</td>\n",
       "      <td>11298</td>\n",
       "      <td>1129806</td>\n",
       "      <td>30194</td>\n",
       "      <td>DFW</td>\n",
       "      <td>TX</td>\n",
       "      <td>74</td>\n",
       "      <td>...</td>\n",
       "      <td>Dallas/Fort Worth International Airport</td>\n",
       "      <td>Dallas-Fort Worth</td>\n",
       "      <td>32.89595</td>\n",
       "      <td>-97.03720</td>\n",
       "      <td>Indianapolis International Airport</td>\n",
       "      <td>Indianapolis</td>\n",
       "      <td>IN</td>\n",
       "      <td>USA</td>\n",
       "      <td>39.71733</td>\n",
       "      <td>-86.29438</td>\n",
       "    </tr>\n",
       "    <tr>\n",
       "      <th>10574</th>\n",
       "      <td>20201249202</td>\n",
       "      <td>2020</td>\n",
       "      <td>1</td>\n",
       "      <td>2</td>\n",
       "      <td>11193</td>\n",
       "      <td>1119302</td>\n",
       "      <td>33105</td>\n",
       "      <td>CVG</td>\n",
       "      <td>KY</td>\n",
       "      <td>52</td>\n",
       "      <td>...</td>\n",
       "      <td>Cincinnati/Northern Kentucky International Air...</td>\n",
       "      <td>Covington</td>\n",
       "      <td>39.04614</td>\n",
       "      <td>-84.66217</td>\n",
       "      <td>Phoenix Sky Harbor International Airport</td>\n",
       "      <td>Phoenix</td>\n",
       "      <td>AZ</td>\n",
       "      <td>USA</td>\n",
       "      <td>33.43417</td>\n",
       "      <td>-112.00806</td>\n",
       "    </tr>\n",
       "    <tr>\n",
       "      <th>37150</th>\n",
       "      <td>20201549218</td>\n",
       "      <td>2020</td>\n",
       "      <td>1</td>\n",
       "      <td>2</td>\n",
       "      <td>14100</td>\n",
       "      <td>1410005</td>\n",
       "      <td>34100</td>\n",
       "      <td>PHL</td>\n",
       "      <td>PA</td>\n",
       "      <td>23</td>\n",
       "      <td>...</td>\n",
       "      <td>Philadelphia International Airport</td>\n",
       "      <td>Philadelphia</td>\n",
       "      <td>39.87195</td>\n",
       "      <td>-75.24114</td>\n",
       "      <td>Fort Lauderdale-Hollywood International Airport</td>\n",
       "      <td>Ft. Lauderdale</td>\n",
       "      <td>FL</td>\n",
       "      <td>USA</td>\n",
       "      <td>26.07258</td>\n",
       "      <td>-80.15275</td>\n",
       "    </tr>\n",
       "    <tr>\n",
       "      <th>...</th>\n",
       "      <td>...</td>\n",
       "      <td>...</td>\n",
       "      <td>...</td>\n",
       "      <td>...</td>\n",
       "      <td>...</td>\n",
       "      <td>...</td>\n",
       "      <td>...</td>\n",
       "      <td>...</td>\n",
       "      <td>...</td>\n",
       "      <td>...</td>\n",
       "      <td>...</td>\n",
       "      <td>...</td>\n",
       "      <td>...</td>\n",
       "      <td>...</td>\n",
       "      <td>...</td>\n",
       "      <td>...</td>\n",
       "      <td>...</td>\n",
       "      <td>...</td>\n",
       "      <td>...</td>\n",
       "      <td>...</td>\n",
       "      <td>...</td>\n",
       "    </tr>\n",
       "    <tr>\n",
       "      <th>30047</th>\n",
       "      <td>20201130471</td>\n",
       "      <td>2020</td>\n",
       "      <td>1</td>\n",
       "      <td>2</td>\n",
       "      <td>11298</td>\n",
       "      <td>1129806</td>\n",
       "      <td>30194</td>\n",
       "      <td>DFW</td>\n",
       "      <td>TX</td>\n",
       "      <td>74</td>\n",
       "      <td>...</td>\n",
       "      <td>Dallas/Fort Worth International Airport</td>\n",
       "      <td>Dallas-Fort Worth</td>\n",
       "      <td>32.89595</td>\n",
       "      <td>-97.03720</td>\n",
       "      <td>LaGuardia Airport (Marine Air Terminal)</td>\n",
       "      <td>New York</td>\n",
       "      <td>NY</td>\n",
       "      <td>USA</td>\n",
       "      <td>40.77724</td>\n",
       "      <td>-73.87261</td>\n",
       "    </tr>\n",
       "    <tr>\n",
       "      <th>45395</th>\n",
       "      <td>2020152576</td>\n",
       "      <td>2020</td>\n",
       "      <td>1</td>\n",
       "      <td>2</td>\n",
       "      <td>12953</td>\n",
       "      <td>1295304</td>\n",
       "      <td>31703</td>\n",
       "      <td>LGA</td>\n",
       "      <td>NY</td>\n",
       "      <td>22</td>\n",
       "      <td>...</td>\n",
       "      <td>LaGuardia Airport (Marine Air Terminal)</td>\n",
       "      <td>New York</td>\n",
       "      <td>40.77724</td>\n",
       "      <td>-73.87261</td>\n",
       "      <td>Jacksonville International Airport</td>\n",
       "      <td>Jacksonville</td>\n",
       "      <td>FL</td>\n",
       "      <td>USA</td>\n",
       "      <td>30.49406</td>\n",
       "      <td>-81.68786</td>\n",
       "    </tr>\n",
       "    <tr>\n",
       "      <th>29838</th>\n",
       "      <td>20201223372</td>\n",
       "      <td>2020</td>\n",
       "      <td>1</td>\n",
       "      <td>1</td>\n",
       "      <td>11057</td>\n",
       "      <td>1105703</td>\n",
       "      <td>31057</td>\n",
       "      <td>CLT</td>\n",
       "      <td>NC</td>\n",
       "      <td>36</td>\n",
       "      <td>...</td>\n",
       "      <td>Charlotte Douglas International Airport</td>\n",
       "      <td>Charlotte</td>\n",
       "      <td>35.21401</td>\n",
       "      <td>-80.94313</td>\n",
       "      <td>LaGuardia Airport (Marine Air Terminal)</td>\n",
       "      <td>New York</td>\n",
       "      <td>NY</td>\n",
       "      <td>USA</td>\n",
       "      <td>40.77724</td>\n",
       "      <td>-73.87261</td>\n",
       "    </tr>\n",
       "    <tr>\n",
       "      <th>51807</th>\n",
       "      <td>20201314985</td>\n",
       "      <td>2020</td>\n",
       "      <td>1</td>\n",
       "      <td>2</td>\n",
       "      <td>13930</td>\n",
       "      <td>1393007</td>\n",
       "      <td>30977</td>\n",
       "      <td>ORD</td>\n",
       "      <td>IL</td>\n",
       "      <td>41</td>\n",
       "      <td>...</td>\n",
       "      <td>Chicago O'Hare International Airport</td>\n",
       "      <td>Chicago</td>\n",
       "      <td>41.97960</td>\n",
       "      <td>-87.90446</td>\n",
       "      <td>Minneapolis-Saint Paul International Airport</td>\n",
       "      <td>Minneapolis</td>\n",
       "      <td>MN</td>\n",
       "      <td>USA</td>\n",
       "      <td>44.88055</td>\n",
       "      <td>-93.21692</td>\n",
       "    </tr>\n",
       "    <tr>\n",
       "      <th>57177</th>\n",
       "      <td>20201212702</td>\n",
       "      <td>2020</td>\n",
       "      <td>1</td>\n",
       "      <td>2</td>\n",
       "      <td>11057</td>\n",
       "      <td>1105703</td>\n",
       "      <td>31057</td>\n",
       "      <td>CLT</td>\n",
       "      <td>NC</td>\n",
       "      <td>36</td>\n",
       "      <td>...</td>\n",
       "      <td>Charlotte Douglas International Airport</td>\n",
       "      <td>Charlotte</td>\n",
       "      <td>35.21401</td>\n",
       "      <td>-80.94313</td>\n",
       "      <td>Nashville International Airport</td>\n",
       "      <td>Nashville</td>\n",
       "      <td>TN</td>\n",
       "      <td>USA</td>\n",
       "      <td>36.12448</td>\n",
       "      <td>-86.67818</td>\n",
       "    </tr>\n",
       "  </tbody>\n",
       "</table>\n",
       "<p>653 rows × 32 columns</p>\n",
       "</div>"
      ],
      "text/plain": [
       "       Itinerary_ID  Year  Quarter  Number_Coupons  Origin_Airport_ID  \\\n",
       "33238   20201309557  2020        1               4              14843   \n",
       "31402    2020171849  2020        1               4              13485   \n",
       "54983   20201411032  2020        1               2              11298   \n",
       "10574   20201249202  2020        1               2              11193   \n",
       "37150   20201549218  2020        1               2              14100   \n",
       "...             ...   ...      ...             ...                ...   \n",
       "30047   20201130471  2020        1               2              11298   \n",
       "45395    2020152576  2020        1               2              12953   \n",
       "29838   20201223372  2020        1               1              11057   \n",
       "51807   20201314985  2020        1               2              13930   \n",
       "57177   20201212702  2020        1               2              11057   \n",
       "\n",
       "       Origin_Airport_Seq_ID  Origin_City_Market_ID Origin Origin_State  \\\n",
       "33238                1484306                  34819    SJU           PR   \n",
       "31402                1348502                  33485    MSN           WI   \n",
       "54983                1129806                  30194    DFW           TX   \n",
       "10574                1119302                  33105    CVG           KY   \n",
       "37150                1410005                  34100    PHL           PA   \n",
       "...                      ...                    ...    ...          ...   \n",
       "30047                1129806                  30194    DFW           TX   \n",
       "45395                1295304                  31703    LGA           NY   \n",
       "29838                1105703                  31057    CLT           NC   \n",
       "51807                1393007                  30977    ORD           IL   \n",
       "57177                1105703                  31057    CLT           NC   \n",
       "\n",
       "       Origin_WAC  ...                                     Origin_Airport  \\\n",
       "33238           3  ...             Luis Muñoz Marín International Airport   \n",
       "31402          45  ...                       Dane County Regional Airport   \n",
       "54983          74  ...            Dallas/Fort Worth International Airport   \n",
       "10574          52  ...  Cincinnati/Northern Kentucky International Air...   \n",
       "37150          23  ...                 Philadelphia International Airport   \n",
       "...           ...  ...                                                ...   \n",
       "30047          74  ...            Dallas/Fort Worth International Airport   \n",
       "45395          22  ...            LaGuardia Airport (Marine Air Terminal)   \n",
       "29838          36  ...            Charlotte Douglas International Airport   \n",
       "51807          41  ...               Chicago O'Hare International Airport   \n",
       "57177          36  ...            Charlotte Douglas International Airport   \n",
       "\n",
       "             Origin_City  Origin_Lat Origin_Long  \\\n",
       "33238           San Juan    18.43942   -66.00183   \n",
       "31402            Madison    43.13986   -89.33751   \n",
       "54983  Dallas-Fort Worth    32.89595   -97.03720   \n",
       "10574          Covington    39.04614   -84.66217   \n",
       "37150       Philadelphia    39.87195   -75.24114   \n",
       "...                  ...         ...         ...   \n",
       "30047  Dallas-Fort Worth    32.89595   -97.03720   \n",
       "45395           New York    40.77724   -73.87261   \n",
       "29838          Charlotte    35.21401   -80.94313   \n",
       "51807            Chicago    41.97960   -87.90446   \n",
       "57177          Charlotte    35.21401   -80.94313   \n",
       "\n",
       "                                   Destination_Airport  Destination_City  \\\n",
       "33238                      Miami International Airport             Miami   \n",
       "31402          LaGuardia Airport (Marine Air Terminal)          New York   \n",
       "54983               Indianapolis International Airport      Indianapolis   \n",
       "10574         Phoenix Sky Harbor International Airport           Phoenix   \n",
       "37150  Fort Lauderdale-Hollywood International Airport    Ft. Lauderdale   \n",
       "...                                                ...               ...   \n",
       "30047          LaGuardia Airport (Marine Air Terminal)          New York   \n",
       "45395               Jacksonville International Airport      Jacksonville   \n",
       "29838          LaGuardia Airport (Marine Air Terminal)          New York   \n",
       "51807     Minneapolis-Saint Paul International Airport       Minneapolis   \n",
       "57177                  Nashville International Airport         Nashville   \n",
       "\n",
       "       State  Country Destination_Lat Destination_Long  \n",
       "33238     FL      USA        25.79325        -80.29056  \n",
       "31402     NY      USA        40.77724        -73.87261  \n",
       "54983     IN      USA        39.71733        -86.29438  \n",
       "10574     AZ      USA        33.43417       -112.00806  \n",
       "37150     FL      USA        26.07258        -80.15275  \n",
       "...      ...      ...             ...              ...  \n",
       "30047     NY      USA        40.77724        -73.87261  \n",
       "45395     FL      USA        30.49406        -81.68786  \n",
       "29838     NY      USA        40.77724        -73.87261  \n",
       "51807     MN      USA        44.88055        -93.21692  \n",
       "57177     TN      USA        36.12448        -86.67818  \n",
       "\n",
       "[653 rows x 32 columns]"
      ]
     },
     "execution_count": 3,
     "metadata": {},
     "output_type": "execute_result"
    }
   ],
   "source": [
    "df = pd.read_csv(\"machineLearningData (1).csv\")\n",
    "df = df.sample(frac=.01, random_state=42)\n",
    "df"
   ]
  },
  {
   "cell_type": "code",
   "execution_count": 4,
   "metadata": {},
   "outputs": [
    {
     "name": "stdout",
     "output_type": "stream",
     "text": [
      "<class 'pandas.core.frame.DataFrame'>\n",
      "Int64Index: 653 entries, 33238 to 57177\n",
      "Data columns (total 32 columns):\n",
      " #   Column                 Non-Null Count  Dtype  \n",
      "---  ------                 --------------  -----  \n",
      " 0   Itinerary_ID           653 non-null    int64  \n",
      " 1   Year                   653 non-null    int64  \n",
      " 2   Quarter                653 non-null    int64  \n",
      " 3   Number_Coupons         653 non-null    int64  \n",
      " 4   Origin_Airport_ID      653 non-null    int64  \n",
      " 5   Origin_Airport_Seq_ID  653 non-null    int64  \n",
      " 6   Origin_City_Market_ID  653 non-null    int64  \n",
      " 7   Origin                 653 non-null    object \n",
      " 8   Origin_State           653 non-null    object \n",
      " 9   Origin_WAC             653 non-null    int64  \n",
      " 10  Dest_Airport_ID        653 non-null    int64  \n",
      " 11  Dest_Airport_Seq_ID    653 non-null    int64  \n",
      " 12  Dest_City_Market_ID    653 non-null    int64  \n",
      " 13  Destination            653 non-null    object \n",
      " 14  Dest_State             653 non-null    object \n",
      " 15  Dest_WAC               653 non-null    int64  \n",
      " 16  Flight_Distance        653 non-null    int64  \n",
      " 17  Fare                   653 non-null    int64  \n",
      " 18  Ticket_Carrier         653 non-null    object \n",
      " 19  Operating_Carrier      653 non-null    object \n",
      " 20  Reporting_Carrier      653 non-null    object \n",
      " 21  Number_Passengers      653 non-null    int64  \n",
      " 22  Origin_Airport         653 non-null    object \n",
      " 23  Origin_City            653 non-null    object \n",
      " 24  Origin_Lat             653 non-null    float64\n",
      " 25  Origin_Long            653 non-null    float64\n",
      " 26  Destination_Airport    653 non-null    object \n",
      " 27  Destination_City       653 non-null    object \n",
      " 28  State                  653 non-null    object \n",
      " 29  Country                653 non-null    object \n",
      " 30  Destination_Lat        653 non-null    float64\n",
      " 31  Destination_Long       653 non-null    float64\n",
      "dtypes: float64(4), int64(15), object(13)\n",
      "memory usage: 168.4+ KB\n"
     ]
    }
   ],
   "source": [
    "df.info()"
   ]
  },
  {
   "cell_type": "code",
   "execution_count": 5,
   "metadata": {},
   "outputs": [
    {
     "data": {
      "text/html": [
       "<div>\n",
       "<style scoped>\n",
       "    .dataframe tbody tr th:only-of-type {\n",
       "        vertical-align: middle;\n",
       "    }\n",
       "\n",
       "    .dataframe tbody tr th {\n",
       "        vertical-align: top;\n",
       "    }\n",
       "\n",
       "    .dataframe thead th {\n",
       "        text-align: right;\n",
       "    }\n",
       "</style>\n",
       "<table border=\"1\" class=\"dataframe\">\n",
       "  <thead>\n",
       "    <tr style=\"text-align: right;\">\n",
       "      <th></th>\n",
       "      <th>Itinerary_ID</th>\n",
       "      <th>Year</th>\n",
       "      <th>Quarter</th>\n",
       "      <th>Number_Coupons</th>\n",
       "      <th>Origin_Airport_ID</th>\n",
       "      <th>Origin_Airport_Seq_ID</th>\n",
       "      <th>Origin_City_Market_ID</th>\n",
       "      <th>Origin_WAC</th>\n",
       "      <th>Dest_Airport_ID</th>\n",
       "      <th>Dest_Airport_Seq_ID</th>\n",
       "      <th>Dest_City_Market_ID</th>\n",
       "      <th>Dest_WAC</th>\n",
       "      <th>Flight_Distance</th>\n",
       "      <th>Fare</th>\n",
       "      <th>Number_Passengers</th>\n",
       "      <th>Origin_Lat</th>\n",
       "      <th>Origin_Long</th>\n",
       "      <th>Destination_Lat</th>\n",
       "      <th>Destination_Long</th>\n",
       "    </tr>\n",
       "  </thead>\n",
       "  <tbody>\n",
       "    <tr>\n",
       "      <th>count</th>\n",
       "      <td>6.530000e+02</td>\n",
       "      <td>653.0</td>\n",
       "      <td>653.0</td>\n",
       "      <td>653.000000</td>\n",
       "      <td>653.000000</td>\n",
       "      <td>6.530000e+02</td>\n",
       "      <td>653.000000</td>\n",
       "      <td>653.000000</td>\n",
       "      <td>653.000000</td>\n",
       "      <td>6.530000e+02</td>\n",
       "      <td>653.000000</td>\n",
       "      <td>653.000000</td>\n",
       "      <td>653.000000</td>\n",
       "      <td>653.000000</td>\n",
       "      <td>653.000000</td>\n",
       "      <td>653.000000</td>\n",
       "      <td>653.000000</td>\n",
       "      <td>653.000000</td>\n",
       "      <td>653.000000</td>\n",
       "    </tr>\n",
       "    <tr>\n",
       "      <th>mean</th>\n",
       "      <td>1.575708e+10</td>\n",
       "      <td>2020.0</td>\n",
       "      <td>1.0</td>\n",
       "      <td>2.952527</td>\n",
       "      <td>12103.526799</td>\n",
       "      <td>1.210357e+06</td>\n",
       "      <td>31420.408882</td>\n",
       "      <td>49.601838</td>\n",
       "      <td>12363.747320</td>\n",
       "      <td>1.236379e+06</td>\n",
       "      <td>31553.669219</td>\n",
       "      <td>49.900459</td>\n",
       "      <td>880.594181</td>\n",
       "      <td>441.000000</td>\n",
       "      <td>1.905054</td>\n",
       "      <td>35.392609</td>\n",
       "      <td>-90.033973</td>\n",
       "      <td>35.801334</td>\n",
       "      <td>-89.717557</td>\n",
       "    </tr>\n",
       "    <tr>\n",
       "      <th>std</th>\n",
       "      <td>7.877136e+09</td>\n",
       "      <td>0.0</td>\n",
       "      <td>0.0</td>\n",
       "      <td>1.150839</td>\n",
       "      <td>1337.945233</td>\n",
       "      <td>1.337941e+05</td>\n",
       "      <td>1210.273463</td>\n",
       "      <td>23.960489</td>\n",
       "      <td>1427.081334</td>\n",
       "      <td>1.427078e+05</td>\n",
       "      <td>1272.364406</td>\n",
       "      <td>23.980390</td>\n",
       "      <td>656.019585</td>\n",
       "      <td>332.864437</td>\n",
       "      <td>9.239993</td>\n",
       "      <td>5.316770</td>\n",
       "      <td>15.475445</td>\n",
       "      <td>5.397065</td>\n",
       "      <td>14.727622</td>\n",
       "    </tr>\n",
       "    <tr>\n",
       "      <th>min</th>\n",
       "      <td>2.020119e+06</td>\n",
       "      <td>2020.0</td>\n",
       "      <td>1.0</td>\n",
       "      <td>1.000000</td>\n",
       "      <td>10135.000000</td>\n",
       "      <td>1.013506e+06</td>\n",
       "      <td>30135.000000</td>\n",
       "      <td>2.000000</td>\n",
       "      <td>10140.000000</td>\n",
       "      <td>1.014005e+06</td>\n",
       "      <td>30140.000000</td>\n",
       "      <td>2.000000</td>\n",
       "      <td>11.000000</td>\n",
       "      <td>0.000000</td>\n",
       "      <td>1.000000</td>\n",
       "      <td>18.337310</td>\n",
       "      <td>-157.922410</td>\n",
       "      <td>18.337310</td>\n",
       "      <td>-159.338960</td>\n",
       "    </tr>\n",
       "    <tr>\n",
       "      <th>25%</th>\n",
       "      <td>2.020111e+10</td>\n",
       "      <td>2020.0</td>\n",
       "      <td>1.0</td>\n",
       "      <td>2.000000</td>\n",
       "      <td>11057.000000</td>\n",
       "      <td>1.105703e+06</td>\n",
       "      <td>30397.000000</td>\n",
       "      <td>34.000000</td>\n",
       "      <td>11109.000000</td>\n",
       "      <td>1.110902e+06</td>\n",
       "      <td>30466.000000</td>\n",
       "      <td>33.000000</td>\n",
       "      <td>414.000000</td>\n",
       "      <td>243.000000</td>\n",
       "      <td>1.000000</td>\n",
       "      <td>32.895950</td>\n",
       "      <td>-97.037200</td>\n",
       "      <td>32.895950</td>\n",
       "      <td>-97.037200</td>\n",
       "    </tr>\n",
       "    <tr>\n",
       "      <th>50%</th>\n",
       "      <td>2.020126e+10</td>\n",
       "      <td>2020.0</td>\n",
       "      <td>1.0</td>\n",
       "      <td>3.000000</td>\n",
       "      <td>11433.000000</td>\n",
       "      <td>1.143302e+06</td>\n",
       "      <td>31057.000000</td>\n",
       "      <td>38.000000</td>\n",
       "      <td>12266.000000</td>\n",
       "      <td>1.226603e+06</td>\n",
       "      <td>31057.000000</td>\n",
       "      <td>41.000000</td>\n",
       "      <td>719.000000</td>\n",
       "      <td>384.000000</td>\n",
       "      <td>1.000000</td>\n",
       "      <td>35.214010</td>\n",
       "      <td>-84.426940</td>\n",
       "      <td>35.214010</td>\n",
       "      <td>-84.426940</td>\n",
       "    </tr>\n",
       "    <tr>\n",
       "      <th>75%</th>\n",
       "      <td>2.020141e+10</td>\n",
       "      <td>2020.0</td>\n",
       "      <td>1.0</td>\n",
       "      <td>4.000000</td>\n",
       "      <td>13204.000000</td>\n",
       "      <td>1.320402e+06</td>\n",
       "      <td>32211.000000</td>\n",
       "      <td>74.000000</td>\n",
       "      <td>13487.000000</td>\n",
       "      <td>1.348702e+06</td>\n",
       "      <td>32441.000000</td>\n",
       "      <td>74.000000</td>\n",
       "      <td>1126.000000</td>\n",
       "      <td>556.000000</td>\n",
       "      <td>1.000000</td>\n",
       "      <td>39.858410</td>\n",
       "      <td>-80.290560</td>\n",
       "      <td>40.639750</td>\n",
       "      <td>-80.290560</td>\n",
       "    </tr>\n",
       "    <tr>\n",
       "      <th>max</th>\n",
       "      <td>2.020161e+10</td>\n",
       "      <td>2020.0</td>\n",
       "      <td>1.0</td>\n",
       "      <td>7.000000</td>\n",
       "      <td>15624.000000</td>\n",
       "      <td>1.562404e+06</td>\n",
       "      <td>35412.000000</td>\n",
       "      <td>93.000000</td>\n",
       "      <td>15919.000000</td>\n",
       "      <td>1.591904e+06</td>\n",
       "      <td>35412.000000</td>\n",
       "      <td>93.000000</td>\n",
       "      <td>4243.000000</td>\n",
       "      <td>2726.000000</td>\n",
       "      <td>216.000000</td>\n",
       "      <td>47.619860</td>\n",
       "      <td>-64.973360</td>\n",
       "      <td>47.619860</td>\n",
       "      <td>-64.973360</td>\n",
       "    </tr>\n",
       "  </tbody>\n",
       "</table>\n",
       "</div>"
      ],
      "text/plain": [
       "       Itinerary_ID    Year  Quarter  Number_Coupons  Origin_Airport_ID  \\\n",
       "count  6.530000e+02   653.0    653.0      653.000000         653.000000   \n",
       "mean   1.575708e+10  2020.0      1.0        2.952527       12103.526799   \n",
       "std    7.877136e+09     0.0      0.0        1.150839        1337.945233   \n",
       "min    2.020119e+06  2020.0      1.0        1.000000       10135.000000   \n",
       "25%    2.020111e+10  2020.0      1.0        2.000000       11057.000000   \n",
       "50%    2.020126e+10  2020.0      1.0        3.000000       11433.000000   \n",
       "75%    2.020141e+10  2020.0      1.0        4.000000       13204.000000   \n",
       "max    2.020161e+10  2020.0      1.0        7.000000       15624.000000   \n",
       "\n",
       "       Origin_Airport_Seq_ID  Origin_City_Market_ID  Origin_WAC  \\\n",
       "count           6.530000e+02             653.000000  653.000000   \n",
       "mean            1.210357e+06           31420.408882   49.601838   \n",
       "std             1.337941e+05            1210.273463   23.960489   \n",
       "min             1.013506e+06           30135.000000    2.000000   \n",
       "25%             1.105703e+06           30397.000000   34.000000   \n",
       "50%             1.143302e+06           31057.000000   38.000000   \n",
       "75%             1.320402e+06           32211.000000   74.000000   \n",
       "max             1.562404e+06           35412.000000   93.000000   \n",
       "\n",
       "       Dest_Airport_ID  Dest_Airport_Seq_ID  Dest_City_Market_ID    Dest_WAC  \\\n",
       "count       653.000000         6.530000e+02           653.000000  653.000000   \n",
       "mean      12363.747320         1.236379e+06         31553.669219   49.900459   \n",
       "std        1427.081334         1.427078e+05          1272.364406   23.980390   \n",
       "min       10140.000000         1.014005e+06         30140.000000    2.000000   \n",
       "25%       11109.000000         1.110902e+06         30466.000000   33.000000   \n",
       "50%       12266.000000         1.226603e+06         31057.000000   41.000000   \n",
       "75%       13487.000000         1.348702e+06         32441.000000   74.000000   \n",
       "max       15919.000000         1.591904e+06         35412.000000   93.000000   \n",
       "\n",
       "       Flight_Distance         Fare  Number_Passengers  Origin_Lat  \\\n",
       "count       653.000000   653.000000         653.000000  653.000000   \n",
       "mean        880.594181   441.000000           1.905054   35.392609   \n",
       "std         656.019585   332.864437           9.239993    5.316770   \n",
       "min          11.000000     0.000000           1.000000   18.337310   \n",
       "25%         414.000000   243.000000           1.000000   32.895950   \n",
       "50%         719.000000   384.000000           1.000000   35.214010   \n",
       "75%        1126.000000   556.000000           1.000000   39.858410   \n",
       "max        4243.000000  2726.000000         216.000000   47.619860   \n",
       "\n",
       "       Origin_Long  Destination_Lat  Destination_Long  \n",
       "count   653.000000       653.000000        653.000000  \n",
       "mean    -90.033973        35.801334        -89.717557  \n",
       "std      15.475445         5.397065         14.727622  \n",
       "min    -157.922410        18.337310       -159.338960  \n",
       "25%     -97.037200        32.895950        -97.037200  \n",
       "50%     -84.426940        35.214010        -84.426940  \n",
       "75%     -80.290560        40.639750        -80.290560  \n",
       "max     -64.973360        47.619860        -64.973360  "
      ]
     },
     "execution_count": 5,
     "metadata": {},
     "output_type": "execute_result"
    }
   ],
   "source": [
    "df.describe()"
   ]
  },
  {
   "cell_type": "code",
   "execution_count": 6,
   "metadata": {},
   "outputs": [
    {
     "data": {
      "text/html": [
       "<div>\n",
       "<style scoped>\n",
       "    .dataframe tbody tr th:only-of-type {\n",
       "        vertical-align: middle;\n",
       "    }\n",
       "\n",
       "    .dataframe tbody tr th {\n",
       "        vertical-align: top;\n",
       "    }\n",
       "\n",
       "    .dataframe thead th {\n",
       "        text-align: right;\n",
       "    }\n",
       "</style>\n",
       "<table border=\"1\" class=\"dataframe\">\n",
       "  <thead>\n",
       "    <tr style=\"text-align: right;\">\n",
       "      <th></th>\n",
       "      <th>Itinerary_ID</th>\n",
       "      <th>Year</th>\n",
       "      <th>Quarter</th>\n",
       "      <th>Number_Coupons</th>\n",
       "      <th>Origin_Airport_ID</th>\n",
       "      <th>Origin_Airport_Seq_ID</th>\n",
       "      <th>Origin_City_Market_ID</th>\n",
       "      <th>Origin_WAC</th>\n",
       "      <th>Dest_Airport_ID</th>\n",
       "      <th>Dest_Airport_Seq_ID</th>\n",
       "      <th>Dest_City_Market_ID</th>\n",
       "      <th>Dest_WAC</th>\n",
       "      <th>Flight_Distance</th>\n",
       "      <th>Fare</th>\n",
       "      <th>Number_Passengers</th>\n",
       "      <th>Origin_Lat</th>\n",
       "      <th>Origin_Long</th>\n",
       "      <th>Destination_Lat</th>\n",
       "      <th>Destination_Long</th>\n",
       "    </tr>\n",
       "  </thead>\n",
       "  <tbody>\n",
       "    <tr>\n",
       "      <th>Itinerary_ID</th>\n",
       "      <td>1.000000</td>\n",
       "      <td>NaN</td>\n",
       "      <td>NaN</td>\n",
       "      <td>-0.073782</td>\n",
       "      <td>0.028401</td>\n",
       "      <td>0.028401</td>\n",
       "      <td>-0.057066</td>\n",
       "      <td>0.232565</td>\n",
       "      <td>0.041285</td>\n",
       "      <td>0.041285</td>\n",
       "      <td>-0.026865</td>\n",
       "      <td>0.192640</td>\n",
       "      <td>0.222970</td>\n",
       "      <td>-0.032557</td>\n",
       "      <td>0.041478</td>\n",
       "      <td>-0.273817</td>\n",
       "      <td>-0.216356</td>\n",
       "      <td>-0.224012</td>\n",
       "      <td>-0.202056</td>\n",
       "    </tr>\n",
       "    <tr>\n",
       "      <th>Year</th>\n",
       "      <td>NaN</td>\n",
       "      <td>NaN</td>\n",
       "      <td>NaN</td>\n",
       "      <td>NaN</td>\n",
       "      <td>NaN</td>\n",
       "      <td>NaN</td>\n",
       "      <td>NaN</td>\n",
       "      <td>NaN</td>\n",
       "      <td>NaN</td>\n",
       "      <td>NaN</td>\n",
       "      <td>NaN</td>\n",
       "      <td>NaN</td>\n",
       "      <td>NaN</td>\n",
       "      <td>NaN</td>\n",
       "      <td>NaN</td>\n",
       "      <td>NaN</td>\n",
       "      <td>NaN</td>\n",
       "      <td>NaN</td>\n",
       "      <td>NaN</td>\n",
       "    </tr>\n",
       "    <tr>\n",
       "      <th>Quarter</th>\n",
       "      <td>NaN</td>\n",
       "      <td>NaN</td>\n",
       "      <td>NaN</td>\n",
       "      <td>NaN</td>\n",
       "      <td>NaN</td>\n",
       "      <td>NaN</td>\n",
       "      <td>NaN</td>\n",
       "      <td>NaN</td>\n",
       "      <td>NaN</td>\n",
       "      <td>NaN</td>\n",
       "      <td>NaN</td>\n",
       "      <td>NaN</td>\n",
       "      <td>NaN</td>\n",
       "      <td>NaN</td>\n",
       "      <td>NaN</td>\n",
       "      <td>NaN</td>\n",
       "      <td>NaN</td>\n",
       "      <td>NaN</td>\n",
       "      <td>NaN</td>\n",
       "    </tr>\n",
       "    <tr>\n",
       "      <th>Number_Coupons</th>\n",
       "      <td>-0.073782</td>\n",
       "      <td>NaN</td>\n",
       "      <td>NaN</td>\n",
       "      <td>1.000000</td>\n",
       "      <td>0.026078</td>\n",
       "      <td>0.026078</td>\n",
       "      <td>0.063832</td>\n",
       "      <td>0.008880</td>\n",
       "      <td>-0.045552</td>\n",
       "      <td>-0.045552</td>\n",
       "      <td>-0.034871</td>\n",
       "      <td>0.017557</td>\n",
       "      <td>-0.042872</td>\n",
       "      <td>0.261023</td>\n",
       "      <td>-0.099801</td>\n",
       "      <td>-0.079703</td>\n",
       "      <td>-0.084408</td>\n",
       "      <td>-0.080239</td>\n",
       "      <td>-0.047512</td>\n",
       "    </tr>\n",
       "    <tr>\n",
       "      <th>Origin_Airport_ID</th>\n",
       "      <td>0.028401</td>\n",
       "      <td>NaN</td>\n",
       "      <td>NaN</td>\n",
       "      <td>0.026078</td>\n",
       "      <td>1.000000</td>\n",
       "      <td>1.000000</td>\n",
       "      <td>0.699644</td>\n",
       "      <td>0.096338</td>\n",
       "      <td>-0.075534</td>\n",
       "      <td>-0.075534</td>\n",
       "      <td>-0.059130</td>\n",
       "      <td>-0.048231</td>\n",
       "      <td>0.098769</td>\n",
       "      <td>-0.002519</td>\n",
       "      <td>-0.029924</td>\n",
       "      <td>-0.031279</td>\n",
       "      <td>-0.209240</td>\n",
       "      <td>0.046932</td>\n",
       "      <td>0.029670</td>\n",
       "    </tr>\n",
       "    <tr>\n",
       "      <th>Origin_Airport_Seq_ID</th>\n",
       "      <td>0.028401</td>\n",
       "      <td>NaN</td>\n",
       "      <td>NaN</td>\n",
       "      <td>0.026078</td>\n",
       "      <td>1.000000</td>\n",
       "      <td>1.000000</td>\n",
       "      <td>0.699643</td>\n",
       "      <td>0.096342</td>\n",
       "      <td>-0.075533</td>\n",
       "      <td>-0.075533</td>\n",
       "      <td>-0.059129</td>\n",
       "      <td>-0.048230</td>\n",
       "      <td>0.098771</td>\n",
       "      <td>-0.002518</td>\n",
       "      <td>-0.029923</td>\n",
       "      <td>-0.031281</td>\n",
       "      <td>-0.209243</td>\n",
       "      <td>0.046931</td>\n",
       "      <td>0.029668</td>\n",
       "    </tr>\n",
       "    <tr>\n",
       "      <th>Origin_City_Market_ID</th>\n",
       "      <td>-0.057066</td>\n",
       "      <td>NaN</td>\n",
       "      <td>NaN</td>\n",
       "      <td>0.063832</td>\n",
       "      <td>0.699644</td>\n",
       "      <td>0.699643</td>\n",
       "      <td>1.000000</td>\n",
       "      <td>-0.144068</td>\n",
       "      <td>-0.074618</td>\n",
       "      <td>-0.074618</td>\n",
       "      <td>-0.128148</td>\n",
       "      <td>-0.099281</td>\n",
       "      <td>0.071981</td>\n",
       "      <td>-0.033470</td>\n",
       "      <td>-0.023177</td>\n",
       "      <td>-0.065507</td>\n",
       "      <td>-0.038012</td>\n",
       "      <td>-0.035196</td>\n",
       "      <td>0.093100</td>\n",
       "    </tr>\n",
       "    <tr>\n",
       "      <th>Origin_WAC</th>\n",
       "      <td>0.232565</td>\n",
       "      <td>NaN</td>\n",
       "      <td>NaN</td>\n",
       "      <td>0.008880</td>\n",
       "      <td>0.096338</td>\n",
       "      <td>0.096342</td>\n",
       "      <td>-0.144068</td>\n",
       "      <td>1.000000</td>\n",
       "      <td>0.006894</td>\n",
       "      <td>0.006894</td>\n",
       "      <td>-0.056553</td>\n",
       "      <td>0.244254</td>\n",
       "      <td>0.103518</td>\n",
       "      <td>0.036155</td>\n",
       "      <td>-0.010507</td>\n",
       "      <td>-0.044920</td>\n",
       "      <td>-0.670779</td>\n",
       "      <td>0.022547</td>\n",
       "      <td>-0.243749</td>\n",
       "    </tr>\n",
       "    <tr>\n",
       "      <th>Dest_Airport_ID</th>\n",
       "      <td>0.041285</td>\n",
       "      <td>NaN</td>\n",
       "      <td>NaN</td>\n",
       "      <td>-0.045552</td>\n",
       "      <td>-0.075534</td>\n",
       "      <td>-0.075533</td>\n",
       "      <td>-0.074618</td>\n",
       "      <td>0.006894</td>\n",
       "      <td>1.000000</td>\n",
       "      <td>1.000000</td>\n",
       "      <td>0.627390</td>\n",
       "      <td>0.093213</td>\n",
       "      <td>0.159979</td>\n",
       "      <td>-0.007332</td>\n",
       "      <td>-0.023890</td>\n",
       "      <td>0.000214</td>\n",
       "      <td>-0.020979</td>\n",
       "      <td>0.003187</td>\n",
       "      <td>-0.191027</td>\n",
       "    </tr>\n",
       "    <tr>\n",
       "      <th>Dest_Airport_Seq_ID</th>\n",
       "      <td>0.041285</td>\n",
       "      <td>NaN</td>\n",
       "      <td>NaN</td>\n",
       "      <td>-0.045552</td>\n",
       "      <td>-0.075534</td>\n",
       "      <td>-0.075533</td>\n",
       "      <td>-0.074618</td>\n",
       "      <td>0.006894</td>\n",
       "      <td>1.000000</td>\n",
       "      <td>1.000000</td>\n",
       "      <td>0.627388</td>\n",
       "      <td>0.093214</td>\n",
       "      <td>0.159981</td>\n",
       "      <td>-0.007331</td>\n",
       "      <td>-0.023890</td>\n",
       "      <td>0.000213</td>\n",
       "      <td>-0.020981</td>\n",
       "      <td>0.003186</td>\n",
       "      <td>-0.191029</td>\n",
       "    </tr>\n",
       "    <tr>\n",
       "      <th>Dest_City_Market_ID</th>\n",
       "      <td>-0.026865</td>\n",
       "      <td>NaN</td>\n",
       "      <td>NaN</td>\n",
       "      <td>-0.034871</td>\n",
       "      <td>-0.059130</td>\n",
       "      <td>-0.059129</td>\n",
       "      <td>-0.128148</td>\n",
       "      <td>-0.056553</td>\n",
       "      <td>0.627390</td>\n",
       "      <td>0.627388</td>\n",
       "      <td>1.000000</td>\n",
       "      <td>-0.157677</td>\n",
       "      <td>0.040891</td>\n",
       "      <td>0.003749</td>\n",
       "      <td>-0.030312</td>\n",
       "      <td>-0.033548</td>\n",
       "      <td>0.068337</td>\n",
       "      <td>-0.022002</td>\n",
       "      <td>0.057610</td>\n",
       "    </tr>\n",
       "    <tr>\n",
       "      <th>Dest_WAC</th>\n",
       "      <td>0.192640</td>\n",
       "      <td>NaN</td>\n",
       "      <td>NaN</td>\n",
       "      <td>0.017557</td>\n",
       "      <td>-0.048231</td>\n",
       "      <td>-0.048230</td>\n",
       "      <td>-0.099281</td>\n",
       "      <td>0.244254</td>\n",
       "      <td>0.093213</td>\n",
       "      <td>0.093214</td>\n",
       "      <td>-0.157677</td>\n",
       "      <td>1.000000</td>\n",
       "      <td>0.149798</td>\n",
       "      <td>0.008969</td>\n",
       "      <td>-0.009886</td>\n",
       "      <td>-0.016669</td>\n",
       "      <td>-0.252268</td>\n",
       "      <td>-0.022490</td>\n",
       "      <td>-0.784326</td>\n",
       "    </tr>\n",
       "    <tr>\n",
       "      <th>Flight_Distance</th>\n",
       "      <td>0.222970</td>\n",
       "      <td>NaN</td>\n",
       "      <td>NaN</td>\n",
       "      <td>-0.042872</td>\n",
       "      <td>0.098769</td>\n",
       "      <td>0.098771</td>\n",
       "      <td>0.071981</td>\n",
       "      <td>0.103518</td>\n",
       "      <td>0.159979</td>\n",
       "      <td>0.159981</td>\n",
       "      <td>0.040891</td>\n",
       "      <td>0.149798</td>\n",
       "      <td>1.000000</td>\n",
       "      <td>0.169443</td>\n",
       "      <td>-0.007705</td>\n",
       "      <td>-0.157765</td>\n",
       "      <td>-0.421176</td>\n",
       "      <td>-0.116397</td>\n",
       "      <td>-0.329088</td>\n",
       "    </tr>\n",
       "    <tr>\n",
       "      <th>Fare</th>\n",
       "      <td>-0.032557</td>\n",
       "      <td>NaN</td>\n",
       "      <td>NaN</td>\n",
       "      <td>0.261023</td>\n",
       "      <td>-0.002519</td>\n",
       "      <td>-0.002518</td>\n",
       "      <td>-0.033470</td>\n",
       "      <td>0.036155</td>\n",
       "      <td>-0.007332</td>\n",
       "      <td>-0.007331</td>\n",
       "      <td>0.003749</td>\n",
       "      <td>0.008969</td>\n",
       "      <td>0.169443</td>\n",
       "      <td>1.000000</td>\n",
       "      <td>-0.085307</td>\n",
       "      <td>-0.094247</td>\n",
       "      <td>-0.160519</td>\n",
       "      <td>-0.164244</td>\n",
       "      <td>-0.110877</td>\n",
       "    </tr>\n",
       "    <tr>\n",
       "      <th>Number_Passengers</th>\n",
       "      <td>0.041478</td>\n",
       "      <td>NaN</td>\n",
       "      <td>NaN</td>\n",
       "      <td>-0.099801</td>\n",
       "      <td>-0.029924</td>\n",
       "      <td>-0.029923</td>\n",
       "      <td>-0.023177</td>\n",
       "      <td>-0.010507</td>\n",
       "      <td>-0.023890</td>\n",
       "      <td>-0.023890</td>\n",
       "      <td>-0.030312</td>\n",
       "      <td>-0.009886</td>\n",
       "      <td>-0.007705</td>\n",
       "      <td>-0.085307</td>\n",
       "      <td>1.000000</td>\n",
       "      <td>-0.003546</td>\n",
       "      <td>0.014897</td>\n",
       "      <td>-0.007220</td>\n",
       "      <td>0.005788</td>\n",
       "    </tr>\n",
       "    <tr>\n",
       "      <th>Origin_Lat</th>\n",
       "      <td>-0.273817</td>\n",
       "      <td>NaN</td>\n",
       "      <td>NaN</td>\n",
       "      <td>-0.079703</td>\n",
       "      <td>-0.031279</td>\n",
       "      <td>-0.031281</td>\n",
       "      <td>-0.065507</td>\n",
       "      <td>-0.044920</td>\n",
       "      <td>0.000214</td>\n",
       "      <td>0.000213</td>\n",
       "      <td>-0.033548</td>\n",
       "      <td>-0.016669</td>\n",
       "      <td>-0.157765</td>\n",
       "      <td>-0.094247</td>\n",
       "      <td>-0.003546</td>\n",
       "      <td>1.000000</td>\n",
       "      <td>0.248097</td>\n",
       "      <td>0.212779</td>\n",
       "      <td>0.054006</td>\n",
       "    </tr>\n",
       "    <tr>\n",
       "      <th>Origin_Long</th>\n",
       "      <td>-0.216356</td>\n",
       "      <td>NaN</td>\n",
       "      <td>NaN</td>\n",
       "      <td>-0.084408</td>\n",
       "      <td>-0.209240</td>\n",
       "      <td>-0.209243</td>\n",
       "      <td>-0.038012</td>\n",
       "      <td>-0.670779</td>\n",
       "      <td>-0.020979</td>\n",
       "      <td>-0.020981</td>\n",
       "      <td>0.068337</td>\n",
       "      <td>-0.252268</td>\n",
       "      <td>-0.421176</td>\n",
       "      <td>-0.160519</td>\n",
       "      <td>0.014897</td>\n",
       "      <td>0.248097</td>\n",
       "      <td>1.000000</td>\n",
       "      <td>0.027351</td>\n",
       "      <td>0.314739</td>\n",
       "    </tr>\n",
       "    <tr>\n",
       "      <th>Destination_Lat</th>\n",
       "      <td>-0.224012</td>\n",
       "      <td>NaN</td>\n",
       "      <td>NaN</td>\n",
       "      <td>-0.080239</td>\n",
       "      <td>0.046932</td>\n",
       "      <td>0.046931</td>\n",
       "      <td>-0.035196</td>\n",
       "      <td>0.022547</td>\n",
       "      <td>0.003187</td>\n",
       "      <td>0.003186</td>\n",
       "      <td>-0.022002</td>\n",
       "      <td>-0.022490</td>\n",
       "      <td>-0.116397</td>\n",
       "      <td>-0.164244</td>\n",
       "      <td>-0.007220</td>\n",
       "      <td>0.212779</td>\n",
       "      <td>0.027351</td>\n",
       "      <td>1.000000</td>\n",
       "      <td>0.118224</td>\n",
       "    </tr>\n",
       "    <tr>\n",
       "      <th>Destination_Long</th>\n",
       "      <td>-0.202056</td>\n",
       "      <td>NaN</td>\n",
       "      <td>NaN</td>\n",
       "      <td>-0.047512</td>\n",
       "      <td>0.029670</td>\n",
       "      <td>0.029668</td>\n",
       "      <td>0.093100</td>\n",
       "      <td>-0.243749</td>\n",
       "      <td>-0.191027</td>\n",
       "      <td>-0.191029</td>\n",
       "      <td>0.057610</td>\n",
       "      <td>-0.784326</td>\n",
       "      <td>-0.329088</td>\n",
       "      <td>-0.110877</td>\n",
       "      <td>0.005788</td>\n",
       "      <td>0.054006</td>\n",
       "      <td>0.314739</td>\n",
       "      <td>0.118224</td>\n",
       "      <td>1.000000</td>\n",
       "    </tr>\n",
       "  </tbody>\n",
       "</table>\n",
       "</div>"
      ],
      "text/plain": [
       "                       Itinerary_ID  Year  Quarter  Number_Coupons  \\\n",
       "Itinerary_ID               1.000000   NaN      NaN       -0.073782   \n",
       "Year                            NaN   NaN      NaN             NaN   \n",
       "Quarter                         NaN   NaN      NaN             NaN   \n",
       "Number_Coupons            -0.073782   NaN      NaN        1.000000   \n",
       "Origin_Airport_ID          0.028401   NaN      NaN        0.026078   \n",
       "Origin_Airport_Seq_ID      0.028401   NaN      NaN        0.026078   \n",
       "Origin_City_Market_ID     -0.057066   NaN      NaN        0.063832   \n",
       "Origin_WAC                 0.232565   NaN      NaN        0.008880   \n",
       "Dest_Airport_ID            0.041285   NaN      NaN       -0.045552   \n",
       "Dest_Airport_Seq_ID        0.041285   NaN      NaN       -0.045552   \n",
       "Dest_City_Market_ID       -0.026865   NaN      NaN       -0.034871   \n",
       "Dest_WAC                   0.192640   NaN      NaN        0.017557   \n",
       "Flight_Distance            0.222970   NaN      NaN       -0.042872   \n",
       "Fare                      -0.032557   NaN      NaN        0.261023   \n",
       "Number_Passengers          0.041478   NaN      NaN       -0.099801   \n",
       "Origin_Lat                -0.273817   NaN      NaN       -0.079703   \n",
       "Origin_Long               -0.216356   NaN      NaN       -0.084408   \n",
       "Destination_Lat           -0.224012   NaN      NaN       -0.080239   \n",
       "Destination_Long          -0.202056   NaN      NaN       -0.047512   \n",
       "\n",
       "                       Origin_Airport_ID  Origin_Airport_Seq_ID  \\\n",
       "Itinerary_ID                    0.028401               0.028401   \n",
       "Year                                 NaN                    NaN   \n",
       "Quarter                              NaN                    NaN   \n",
       "Number_Coupons                  0.026078               0.026078   \n",
       "Origin_Airport_ID               1.000000               1.000000   \n",
       "Origin_Airport_Seq_ID           1.000000               1.000000   \n",
       "Origin_City_Market_ID           0.699644               0.699643   \n",
       "Origin_WAC                      0.096338               0.096342   \n",
       "Dest_Airport_ID                -0.075534              -0.075533   \n",
       "Dest_Airport_Seq_ID            -0.075534              -0.075533   \n",
       "Dest_City_Market_ID            -0.059130              -0.059129   \n",
       "Dest_WAC                       -0.048231              -0.048230   \n",
       "Flight_Distance                 0.098769               0.098771   \n",
       "Fare                           -0.002519              -0.002518   \n",
       "Number_Passengers              -0.029924              -0.029923   \n",
       "Origin_Lat                     -0.031279              -0.031281   \n",
       "Origin_Long                    -0.209240              -0.209243   \n",
       "Destination_Lat                 0.046932               0.046931   \n",
       "Destination_Long                0.029670               0.029668   \n",
       "\n",
       "                       Origin_City_Market_ID  Origin_WAC  Dest_Airport_ID  \\\n",
       "Itinerary_ID                       -0.057066    0.232565         0.041285   \n",
       "Year                                     NaN         NaN              NaN   \n",
       "Quarter                                  NaN         NaN              NaN   \n",
       "Number_Coupons                      0.063832    0.008880        -0.045552   \n",
       "Origin_Airport_ID                   0.699644    0.096338        -0.075534   \n",
       "Origin_Airport_Seq_ID               0.699643    0.096342        -0.075533   \n",
       "Origin_City_Market_ID               1.000000   -0.144068        -0.074618   \n",
       "Origin_WAC                         -0.144068    1.000000         0.006894   \n",
       "Dest_Airport_ID                    -0.074618    0.006894         1.000000   \n",
       "Dest_Airport_Seq_ID                -0.074618    0.006894         1.000000   \n",
       "Dest_City_Market_ID                -0.128148   -0.056553         0.627390   \n",
       "Dest_WAC                           -0.099281    0.244254         0.093213   \n",
       "Flight_Distance                     0.071981    0.103518         0.159979   \n",
       "Fare                               -0.033470    0.036155        -0.007332   \n",
       "Number_Passengers                  -0.023177   -0.010507        -0.023890   \n",
       "Origin_Lat                         -0.065507   -0.044920         0.000214   \n",
       "Origin_Long                        -0.038012   -0.670779        -0.020979   \n",
       "Destination_Lat                    -0.035196    0.022547         0.003187   \n",
       "Destination_Long                    0.093100   -0.243749        -0.191027   \n",
       "\n",
       "                       Dest_Airport_Seq_ID  Dest_City_Market_ID  Dest_WAC  \\\n",
       "Itinerary_ID                      0.041285            -0.026865  0.192640   \n",
       "Year                                   NaN                  NaN       NaN   \n",
       "Quarter                                NaN                  NaN       NaN   \n",
       "Number_Coupons                   -0.045552            -0.034871  0.017557   \n",
       "Origin_Airport_ID                -0.075534            -0.059130 -0.048231   \n",
       "Origin_Airport_Seq_ID            -0.075533            -0.059129 -0.048230   \n",
       "Origin_City_Market_ID            -0.074618            -0.128148 -0.099281   \n",
       "Origin_WAC                        0.006894            -0.056553  0.244254   \n",
       "Dest_Airport_ID                   1.000000             0.627390  0.093213   \n",
       "Dest_Airport_Seq_ID               1.000000             0.627388  0.093214   \n",
       "Dest_City_Market_ID               0.627388             1.000000 -0.157677   \n",
       "Dest_WAC                          0.093214            -0.157677  1.000000   \n",
       "Flight_Distance                   0.159981             0.040891  0.149798   \n",
       "Fare                             -0.007331             0.003749  0.008969   \n",
       "Number_Passengers                -0.023890            -0.030312 -0.009886   \n",
       "Origin_Lat                        0.000213            -0.033548 -0.016669   \n",
       "Origin_Long                      -0.020981             0.068337 -0.252268   \n",
       "Destination_Lat                   0.003186            -0.022002 -0.022490   \n",
       "Destination_Long                 -0.191029             0.057610 -0.784326   \n",
       "\n",
       "                       Flight_Distance      Fare  Number_Passengers  \\\n",
       "Itinerary_ID                  0.222970 -0.032557           0.041478   \n",
       "Year                               NaN       NaN                NaN   \n",
       "Quarter                            NaN       NaN                NaN   \n",
       "Number_Coupons               -0.042872  0.261023          -0.099801   \n",
       "Origin_Airport_ID             0.098769 -0.002519          -0.029924   \n",
       "Origin_Airport_Seq_ID         0.098771 -0.002518          -0.029923   \n",
       "Origin_City_Market_ID         0.071981 -0.033470          -0.023177   \n",
       "Origin_WAC                    0.103518  0.036155          -0.010507   \n",
       "Dest_Airport_ID               0.159979 -0.007332          -0.023890   \n",
       "Dest_Airport_Seq_ID           0.159981 -0.007331          -0.023890   \n",
       "Dest_City_Market_ID           0.040891  0.003749          -0.030312   \n",
       "Dest_WAC                      0.149798  0.008969          -0.009886   \n",
       "Flight_Distance               1.000000  0.169443          -0.007705   \n",
       "Fare                          0.169443  1.000000          -0.085307   \n",
       "Number_Passengers            -0.007705 -0.085307           1.000000   \n",
       "Origin_Lat                   -0.157765 -0.094247          -0.003546   \n",
       "Origin_Long                  -0.421176 -0.160519           0.014897   \n",
       "Destination_Lat              -0.116397 -0.164244          -0.007220   \n",
       "Destination_Long             -0.329088 -0.110877           0.005788   \n",
       "\n",
       "                       Origin_Lat  Origin_Long  Destination_Lat  \\\n",
       "Itinerary_ID            -0.273817    -0.216356        -0.224012   \n",
       "Year                          NaN          NaN              NaN   \n",
       "Quarter                       NaN          NaN              NaN   \n",
       "Number_Coupons          -0.079703    -0.084408        -0.080239   \n",
       "Origin_Airport_ID       -0.031279    -0.209240         0.046932   \n",
       "Origin_Airport_Seq_ID   -0.031281    -0.209243         0.046931   \n",
       "Origin_City_Market_ID   -0.065507    -0.038012        -0.035196   \n",
       "Origin_WAC              -0.044920    -0.670779         0.022547   \n",
       "Dest_Airport_ID          0.000214    -0.020979         0.003187   \n",
       "Dest_Airport_Seq_ID      0.000213    -0.020981         0.003186   \n",
       "Dest_City_Market_ID     -0.033548     0.068337        -0.022002   \n",
       "Dest_WAC                -0.016669    -0.252268        -0.022490   \n",
       "Flight_Distance         -0.157765    -0.421176        -0.116397   \n",
       "Fare                    -0.094247    -0.160519        -0.164244   \n",
       "Number_Passengers       -0.003546     0.014897        -0.007220   \n",
       "Origin_Lat               1.000000     0.248097         0.212779   \n",
       "Origin_Long              0.248097     1.000000         0.027351   \n",
       "Destination_Lat          0.212779     0.027351         1.000000   \n",
       "Destination_Long         0.054006     0.314739         0.118224   \n",
       "\n",
       "                       Destination_Long  \n",
       "Itinerary_ID                  -0.202056  \n",
       "Year                                NaN  \n",
       "Quarter                             NaN  \n",
       "Number_Coupons                -0.047512  \n",
       "Origin_Airport_ID              0.029670  \n",
       "Origin_Airport_Seq_ID          0.029668  \n",
       "Origin_City_Market_ID          0.093100  \n",
       "Origin_WAC                    -0.243749  \n",
       "Dest_Airport_ID               -0.191027  \n",
       "Dest_Airport_Seq_ID           -0.191029  \n",
       "Dest_City_Market_ID            0.057610  \n",
       "Dest_WAC                      -0.784326  \n",
       "Flight_Distance               -0.329088  \n",
       "Fare                          -0.110877  \n",
       "Number_Passengers              0.005788  \n",
       "Origin_Lat                     0.054006  \n",
       "Origin_Long                    0.314739  \n",
       "Destination_Lat                0.118224  \n",
       "Destination_Long               1.000000  "
      ]
     },
     "execution_count": 6,
     "metadata": {},
     "output_type": "execute_result"
    }
   ],
   "source": [
    "corrs = df.corr()\n",
    "corrs"
   ]
  },
  {
   "cell_type": "code",
   "execution_count": 7,
   "metadata": {},
   "outputs": [
    {
     "data": {
      "text/plain": [
       "<matplotlib.axes._subplots.AxesSubplot at 0x2601e952c48>"
      ]
     },
     "execution_count": 7,
     "metadata": {},
     "output_type": "execute_result"
    },
    {
     "data": {
      "image/png": "[encoded data removed]",
      "text/plain": [
       "<Figure size 432x288 with 2 Axes>"
      ]
     },
     "metadata": {
      "needs_background": "light"
     },
     "output_type": "display_data"
    }
   ],
   "source": [
    "sn.heatmap(corrs)"
   ]
  },
  {
   "cell_type": "code",
   "execution_count": 8,
   "metadata": {},
   "outputs": [
    {
     "data": {
      "text/plain": [
       "Fare                     1.000000\n",
       "Number_Coupons           0.261023\n",
       "Flight_Distance          0.169443\n",
       "Destination_Lat          0.164244\n",
       "Origin_Long              0.160519\n",
       "Destination_Long         0.110877\n",
       "Origin_Lat               0.094247\n",
       "Number_Passengers        0.085307\n",
       "Origin_WAC               0.036155\n",
       "Origin_City_Market_ID    0.033470\n",
       "Itinerary_ID             0.032557\n",
       "Dest_WAC                 0.008969\n",
       "Dest_Airport_ID          0.007332\n",
       "Dest_Airport_Seq_ID      0.007331\n",
       "Dest_City_Market_ID      0.003749\n",
       "Origin_Airport_ID        0.002519\n",
       "Origin_Airport_Seq_ID    0.002518\n",
       "Year                          NaN\n",
       "Quarter                       NaN\n",
       "Name: Fare, dtype: float64"
      ]
     },
     "execution_count": 8,
     "metadata": {},
     "output_type": "execute_result"
    }
   ],
   "source": [
    "abs(corrs[\"Fare\"]).sort_values(ascending=False)"
   ]
  },
  {
   "cell_type": "code",
   "execution_count": 9,
   "metadata": {},
   "outputs": [
    {
     "data": {
      "text/plain": [
       "['Number_Coupons',\n",
       " 'Flight_Distance',\n",
       " 'Origin_Lat',\n",
       " 'Origin_Long',\n",
       " 'Destination_Lat',\n",
       " 'Destination_Long']"
      ]
     },
     "execution_count": 9,
     "metadata": {},
     "output_type": "execute_result"
    }
   ],
   "source": [
    "features = list(corrs[\"Fare\"].loc[abs(corrs[\"Fare\"]) > .056].index)\n",
    "features = features[0:len(features)]\n",
    "features.pop(2)\n",
    "features.pop(2)\n",
    "#features.pop(0)\n",
    "features"
   ]
  },
  {
   "cell_type": "code",
   "execution_count": 10,
   "metadata": {},
   "outputs": [],
   "source": [
    "target_col = \"Fare\""
   ]
  },
  {
   "cell_type": "code",
   "execution_count": 11,
   "metadata": {},
   "outputs": [
    {
     "data": {
      "image/png": "[encoded data removed]",
      "text/plain": [
       "<Figure size 432x288 with 1 Axes>"
      ]
     },
     "metadata": {
      "needs_background": "light"
     },
     "output_type": "display_data"
    },
    {
     "data": {
      "image/png": "[encoded data removed]",
      "text/plain": [
       "<Figure size 432x288 with 1 Axes>"
      ]
     },
     "metadata": {
      "needs_background": "light"
     },
     "output_type": "display_data"
    },
    {
     "data": {
      "image/png": "[encoded data removed]",
      "text/plain": [
       "<Figure size 432x288 with 1 Axes>"
      ]
     },
     "metadata": {
      "needs_background": "light"
     },
     "output_type": "display_data"
    },
    {
     "data": {
      "image/png": "[encoded data removed]",
      "text/plain": [
       "<Figure size 432x288 with 1 Axes>"
      ]
     },
     "metadata": {
      "needs_background": "light"
     },
     "output_type": "display_data"
    },
    {
     "data": {
      "image/png": "[encoded data removed]",
      "text/plain": [
       "<Figure size 432x288 with 1 Axes>"
      ]
     },
     "metadata": {
      "needs_background": "light"
     },
     "output_type": "display_data"
    },
    {
     "data": {
      "image/png": "[encoded data removed]",
      "text/plain": [
       "<Figure size 432x288 with 1 Axes>"
      ]
     },
     "metadata": {
      "needs_background": "light"
     },
     "output_type": "display_data"
    }
   ],
   "source": [
    "for col in features:\n",
    "    df[[col]].hist()"
   ]
  },
  {
   "cell_type": "code",
   "execution_count": 12,
   "metadata": {},
   "outputs": [],
   "source": [
    "#split the data\n",
    "X = df[features]\n",
    "y = df[target_col].values.reshape(-1, 1)\n",
    "\n",
    "X_train, X_test, y_train, y_test = train_test_split(X, y, random_state=42, test_size=0.2)"
   ]
  },
  {
   "cell_type": "code",
   "execution_count": 13,
   "metadata": {},
   "outputs": [],
   "source": [
    "# Use train_test_split to create training and testing data\n",
    "\n",
    "from sklearn.model_selection import train_test_split\n",
    "\n",
    "X_train, X_test, y_train, y_test = train_test_split(X, y, random_state=42, train_size=0.8)"
   ]
  },
  {
   "cell_type": "code",
   "execution_count": 14,
   "metadata": {},
   "outputs": [],
   "source": [
    "#SCALE \n",
    "X_scaler = StandardScaler().fit(X_train)\n",
    "\n",
    "#scale train/test\n",
    "X_train_scaled = X_scaler.transform(X_train)\n",
    "X_test_scaled = X_scaler.transform(X_test)"
   ]
  },
  {
   "cell_type": "code",
   "execution_count": 15,
   "metadata": {},
   "outputs": [
    {
     "data": {
      "text/plain": [
       "LinearRegression(copy_X=True, fit_intercept=True, n_jobs=None, normalize=False)"
      ]
     },
     "execution_count": 15,
     "metadata": {},
     "output_type": "execute_result"
    }
   ],
   "source": [
    "# Create the model using LinearRegression\n",
    "\n",
    "from sklearn.linear_model import LinearRegression\n",
    "\n",
    "lm = LinearRegression()\n",
    "lm"
   ]
  },
  {
   "cell_type": "code",
   "execution_count": 16,
   "metadata": {},
   "outputs": [
    {
     "data": {
      "text/plain": [
       "LinearRegression(copy_X=True, fit_intercept=True, n_jobs=None, normalize=False)"
      ]
     },
     "execution_count": 16,
     "metadata": {},
     "output_type": "execute_result"
    }
   ],
   "source": [
    "lm.fit(X_train_scaled, y_train)\n",
    "lm"
   ]
  },
  {
   "cell_type": "code",
   "execution_count": 17,
   "metadata": {},
   "outputs": [],
   "source": [
    "predictions_train_lm = lm.predict(X_train_scaled)\n",
    "predictions_test_lm = lm.predict(X_test_scaled)"
   ]
  },
  {
   "cell_type": "code",
   "execution_count": 18,
   "metadata": {},
   "outputs": [],
   "source": [
    "from sklearn.metrics import mean_squared_error, r2_score"
   ]
  },
  {
   "cell_type": "code",
   "execution_count": 19,
   "metadata": {},
   "outputs": [
    {
     "name": "stdout",
     "output_type": "stream",
     "text": [
      "96578.45150370387\n",
      "0.11503794601859296\n"
     ]
    }
   ],
   "source": [
    "mse_train_lm = mean_squared_error(y_train, predictions_train_lm)\n",
    "r2_train_lm = r2_score(y_train, predictions_train_lm)\n",
    "\n",
    "print(mse_train_lm)\n",
    "print(r2_train_lm)"
   ]
  },
  {
   "cell_type": "code",
   "execution_count": 20,
   "metadata": {},
   "outputs": [
    {
     "name": "stdout",
     "output_type": "stream",
     "text": [
      "102413.16470397243\n",
      "0.1068495879596616\n"
     ]
    }
   ],
   "source": [
    "mse_test_lm = mean_squared_error(y_test, predictions_test_lm)\n",
    "r2_test_lm = r2_score(y_test, predictions_test_lm)\n",
    "\n",
    "print(mse_test_lm)\n",
    "print(r2_test_lm)"
   ]
  },
  {
   "cell_type": "code",
   "execution_count": 21,
   "metadata": {},
   "outputs": [],
   "source": [
    "import random"
   ]
  },
  {
   "cell_type": "code",
   "execution_count": 22,
   "metadata": {},
   "outputs": [],
   "source": [
    "random.seed(42)\n",
    "\n",
    "mse_train_lm_list = []\n",
    "r2_train_lm_list = []\n",
    "\n",
    "mse_test_lm_list = []\n",
    "r2_test_lm_list = []\n",
    "\n",
    "for i in range(10):\n",
    "    random_state = random.randint(0, 5000)\n",
    "    X_train, X_test, y_train, y_test = train_test_split(X, y, random_state=random_state, train_size=0.8)\n",
    "    \n",
    "    X_scaler = StandardScaler().fit(X_train)\n",
    "\n",
    "    X_train_scaled = X_scaler.transform(X_train)\n",
    "    X_test_scaled = X_scaler.transform(X_test)\n",
    "\n",
    "    lm = LinearRegression()\n",
    "    lm.fit(X_train_scaled, y_train)\n",
    "\n",
    "    predictions_train_lm = lm.predict(X_train_scaled)\n",
    "    predictions_test_lm = lm.predict(X_test_scaled)\n",
    "    \n",
    "    mse_train_lm = mean_squared_error(y_train, predictions_train_lm)\n",
    "    r2_train_lm = r2_score(y_train, predictions_train_lm)\n",
    "    mse_test_lm = mean_squared_error(y_test, predictions_test_lm)\n",
    "    r2_test_lm = r2_score(y_test, predictions_test_lm)\n",
    "\n",
    "    mse_train_lm_list.append(mse_train_lm)\n",
    "    r2_train_lm_list.append(r2_train_lm)\n",
    "    mse_test_lm_list.append(mse_test_lm)\n",
    "    r2_test_lm_list.append(r2_test_lm)"
   ]
  },
  {
   "cell_type": "code",
   "execution_count": 23,
   "metadata": {},
   "outputs": [
    {
     "data": {
      "image/png": "[encoded data removed]",
      "text/plain": [
       "<Figure size 432x288 with 1 Axes>"
      ]
     },
     "metadata": {
      "needs_background": "light"
     },
     "output_type": "display_data"
    }
   ],
   "source": [
    "plt.plot(range(10), mse_train_lm_list, label=\"train\")\n",
    "plt.plot(range(10), mse_test_lm_list, label=\"test\")\n",
    "plt.title(\"K-Fold MSE LM\")\n",
    "plt.xlabel(\"K-Fold\")\n",
    "plt.ylabel(\"MSE\")\n",
    "plt.legend()\n",
    "plt.show()"
   ]
  },
  {
   "cell_type": "code",
   "execution_count": 24,
   "metadata": {},
   "outputs": [
    {
     "data": {
      "image/png": "[encoded data removed]",
      "text/plain": [
       "<Figure size 432x288 with 1 Axes>"
      ]
     },
     "metadata": {
      "needs_background": "light"
     },
     "output_type": "display_data"
    }
   ],
   "source": [
    "plt.plot(range(10), r2_train_lm_list, label=\"train\")\n",
    "plt.plot(range(10), r2_test_lm_list, label=\"test\")\n",
    "plt.title(\"K-Fold MSE LM\")\n",
    "plt.xlabel(\"K-Fold\")\n",
    "plt.ylabel(\"R2\")\n",
    "plt.legend()\n",
    "plt.show()"
   ]
  },
  {
   "cell_type": "code",
   "execution_count": 25,
   "metadata": {},
   "outputs": [
    {
     "name": "stdout",
     "output_type": "stream",
     "text": [
      "95674.91370448528\n",
      "0.11774930022864716\n",
      "81756.08134517455\n",
      "0.1281624704525719\n"
     ]
    }
   ],
   "source": [
    "print(np.mean(mse_train_lm_list))\n",
    "print(np.mean(r2_train_lm))\n",
    "print(np.mean(mse_test_lm))\n",
    "print(np.mean(r2_test_lm))"
   ]
  },
  {
   "cell_type": "code",
   "execution_count": 26,
   "metadata": {},
   "outputs": [
    {
     "data": {
      "image/png": "[encoded data removed]",
      "text/plain": [
       "<Figure size 432x288 with 1 Axes>"
      ]
     },
     "metadata": {
      "needs_background": "light"
     },
     "output_type": "display_data"
    }
   ],
   "source": [
    "plt.scatter(predictions_train_lm, y_train)\n",
    "plt.title(\"LM TRAIN Predicted vs Actual\")\n",
    "plt.xlabel(\"predicted\")\n",
    "plt.ylabel(\"actual\")\n",
    "\n",
    "plt.show()"
   ]
  },
  {
   "cell_type": "code",
   "execution_count": 27,
   "metadata": {},
   "outputs": [
    {
     "data": {
      "image/png": "[encoded data removed]",
      "text/plain": [
       "<Figure size 432x288 with 1 Axes>"
      ]
     },
     "metadata": {
      "needs_background": "light"
     },
     "output_type": "display_data"
    }
   ],
   "source": [
    "plt.scatter(predictions_test_lm, y_test)\n",
    "plt.title(\"LM TEST Predicted vs Actual\")\n",
    "plt.xlabel(\"predicted\")\n",
    "plt.ylabel(\"actual\")\n",
    "\n",
    "plt.show()"
   ]
  },
  {
   "cell_type": "code",
   "execution_count": 28,
   "metadata": {},
   "outputs": [],
   "source": [
    "resid_train_lm = predictions_train_lm - y_train\n",
    "resid_test_lm = predictions_test_lm - y_test"
   ]
  },
  {
   "cell_type": "code",
   "execution_count": 29,
   "metadata": {},
   "outputs": [
    {
     "data": {
      "image/png": "[encoded data removed]",
      "text/plain": [
       "<Figure size 432x288 with 1 Axes>"
      ]
     },
     "metadata": {
      "needs_background": "light"
     },
     "output_type": "display_data"
    }
   ],
   "source": [
    "plt.scatter(range(len(resid_train_lm)), resid_train_lm)\n",
    "plt.title(\"LM TRAIN Residual Plot\")\n",
    "plt.xlabel(\"index\")\n",
    "plt.ylabel(\"residual\")\n",
    "\n",
    "plt.show()"
   ]
  },
  {
   "cell_type": "code",
   "execution_count": 30,
   "metadata": {},
   "outputs": [
    {
     "data": {
      "image/png": "[encoded data removed]",
      "text/plain": [
       "<Figure size 432x288 with 1 Axes>"
      ]
     },
     "metadata": {
      "needs_background": "light"
     },
     "output_type": "display_data"
    }
   ],
   "source": [
    "plt.scatter(range(len(resid_test_lm)), resid_test_lm)\n",
    "plt.title(\"LM TEST Residual Plot\")\n",
    "plt.xlabel(\"index\")\n",
    "plt.ylabel(\"residual\")\n",
    "\n",
    "plt.show()"
   ]
  },
  {
   "cell_type": "code",
   "execution_count": 31,
   "metadata": {},
   "outputs": [
    {
     "data": {
      "text/plain": [
       "RandomForestRegressor(bootstrap=True, ccp_alpha=0.0, criterion='mse',\n",
       "                      max_depth=None, max_features='auto', max_leaf_nodes=None,\n",
       "                      max_samples=None, min_impurity_decrease=0.0,\n",
       "                      min_impurity_split=None, min_samples_leaf=1,\n",
       "                      min_samples_split=2, min_weight_fraction_leaf=0.0,\n",
       "                      n_estimators=100, n_jobs=None, oob_score=False,\n",
       "                      random_state=None, verbose=0, warm_start=False)"
      ]
     },
     "execution_count": 31,
     "metadata": {},
     "output_type": "execute_result"
    }
   ],
   "source": [
    "from sklearn.ensemble import RandomForestRegressor\n",
    "\n",
    "rf = RandomForestRegressor()\n",
    "rf"
   ]
  },
  {
   "cell_type": "code",
   "execution_count": 32,
   "metadata": {},
   "outputs": [],
   "source": [
    "X_scaler = StandardScaler().fit(X_train)\n",
    "\n",
    "X_train_scaled = X_scaler.transform(X_train)\n",
    "X_test_scaled = X_scaler.transform(X_test)"
   ]
  },
  {
   "cell_type": "code",
   "execution_count": 33,
   "metadata": {},
   "outputs": [
    {
     "name": "stderr",
     "output_type": "stream",
     "text": [
      "C:\\Users\\Maxi\\anaconda3\\lib\\site-packages\\ipykernel_launcher.py:1: DataConversionWarning: A column-vector y was passed when a 1d array was expected. Please change the shape of y to (n_samples,), for example using ravel().\n",
      "  \"\"\"Entry point for launching an IPython kernel.\n"
     ]
    },
    {
     "data": {
      "text/plain": [
       "RandomForestRegressor(bootstrap=True, ccp_alpha=0.0, criterion='mse',\n",
       "                      max_depth=None, max_features='auto', max_leaf_nodes=None,\n",
       "                      max_samples=None, min_impurity_decrease=0.0,\n",
       "                      min_impurity_split=None, min_samples_leaf=1,\n",
       "                      min_samples_split=2, min_weight_fraction_leaf=0.0,\n",
       "                      n_estimators=100, n_jobs=None, oob_score=False,\n",
       "                      random_state=None, verbose=0, warm_start=False)"
      ]
     },
     "execution_count": 33,
     "metadata": {},
     "output_type": "execute_result"
    }
   ],
   "source": [
    "rf.fit(X_train_scaled, y_train)\n",
    "rf"
   ]
  },
  {
   "cell_type": "code",
   "execution_count": 34,
   "metadata": {},
   "outputs": [],
   "source": [
    "predictions_train_rf = rf.predict(X_train_scaled)\n",
    "predictions_test_rf = rf.predict(X_test_scaled)"
   ]
  },
  {
   "cell_type": "code",
   "execution_count": 35,
   "metadata": {},
   "outputs": [
    {
     "name": "stdout",
     "output_type": "stream",
     "text": [
      "27941.983263213147\n",
      "0.7567078954514406\n"
     ]
    }
   ],
   "source": [
    "mse_train_rf = mean_squared_error(y_train, predictions_train_rf)\n",
    "r2_train_rf = r2_score(y_train, predictions_train_rf)\n",
    "\n",
    "print(mse_train_rf)\n",
    "print(r2_train_rf)"
   ]
  },
  {
   "cell_type": "code",
   "execution_count": 36,
   "metadata": {},
   "outputs": [
    {
     "name": "stdout",
     "output_type": "stream",
     "text": [
      "96663.24763098669\n",
      "-0.030805851087979397\n"
     ]
    }
   ],
   "source": [
    "mse_test_rf = mean_squared_error(y_test, predictions_test_rf)\n",
    "r2_test_rf = r2_score(y_test, predictions_test_rf)\n",
    "\n",
    "print(mse_test_rf)\n",
    "print(r2_test_rf)"
   ]
  },
  {
   "cell_type": "code",
   "execution_count": 37,
   "metadata": {},
   "outputs": [
    {
     "data": {
      "image/png": "[encoded data removed]",
      "text/plain": [
       "<Figure size 432x288 with 1 Axes>"
      ]
     },
     "metadata": {
      "needs_background": "light"
     },
     "output_type": "display_data"
    }
   ],
   "source": [
    "plt.scatter(predictions_train_rf, y_train)\n",
    "plt.title(\"RF TRAIN Predicted vs Actual\")\n",
    "plt.xlabel(\"predicted\")\n",
    "plt.ylabel(\"actual\")\n",
    "\n",
    "plt.show()"
   ]
  },
  {
   "cell_type": "code",
   "execution_count": 38,
   "metadata": {},
   "outputs": [
    {
     "data": {
      "image/png": "[encoded data removed]",
      "text/plain": [
       "<Figure size 432x288 with 1 Axes>"
      ]
     },
     "metadata": {
      "needs_background": "light"
     },
     "output_type": "display_data"
    }
   ],
   "source": [
    "plt.scatter(predictions_test_rf, y_test)\n",
    "plt.title(\"RF TEST Predicted vs Actual\")\n",
    "plt.xlabel(\"predicted\")\n",
    "plt.ylabel(\"actual\")\n",
    "\n",
    "plt.show()"
   ]
  },
  {
   "cell_type": "code",
   "execution_count": 39,
   "metadata": {},
   "outputs": [],
   "source": [
    "resid_train_rf = predictions_train_rf - [x[0] for x in y_train]\n",
    "resid_test_rf = predictions_test_rf - [x[0] for x in y_test]"
   ]
  },
  {
   "cell_type": "code",
   "execution_count": 40,
   "metadata": {},
   "outputs": [
    {
     "data": {
      "image/png": "[encoded data removed]",
      "text/plain": [
       "<Figure size 432x288 with 1 Axes>"
      ]
     },
     "metadata": {
      "needs_background": "light"
     },
     "output_type": "display_data"
    }
   ],
   "source": [
    "plt.scatter(range(len(resid_train_rf)), resid_train_rf)\n",
    "plt.title(\"RF TRAIN Residual Plot\")\n",
    "plt.xlabel(\"index\")\n",
    "plt.ylabel(\"residual\")\n",
    "\n",
    "plt.show()"
   ]
  },
  {
   "cell_type": "code",
   "execution_count": 41,
   "metadata": {},
   "outputs": [
    {
     "data": {
      "image/png": "[encoded data removed]",
      "text/plain": [
       "<Figure size 432x288 with 1 Axes>"
      ]
     },
     "metadata": {
      "needs_background": "light"
     },
     "output_type": "display_data"
    }
   ],
   "source": [
    "plt.scatter(range(len(resid_test_rf)), resid_test_rf)\n",
    "plt.title(\"RF TEST Residual Plot\")\n",
    "plt.xlabel(\"index\")\n",
    "plt.ylabel(\"residual\")\n",
    "\n",
    "plt.show()"
   ]
  },
  {
   "cell_type": "code",
   "execution_count": 42,
   "metadata": {},
   "outputs": [
    {
     "name": "stderr",
     "output_type": "stream",
     "text": [
      "C:\\Users\\Maxi\\anaconda3\\lib\\site-packages\\ipykernel_launcher.py:19: DataConversionWarning: A column-vector y was passed when a 1d array was expected. Please change the shape of y to (n_samples,), for example using ravel().\n",
      "C:\\Users\\Maxi\\anaconda3\\lib\\site-packages\\ipykernel_launcher.py:19: DataConversionWarning: A column-vector y was passed when a 1d array was expected. Please change the shape of y to (n_samples,), for example using ravel().\n",
      "C:\\Users\\Maxi\\anaconda3\\lib\\site-packages\\ipykernel_launcher.py:19: DataConversionWarning: A column-vector y was passed when a 1d array was expected. Please change the shape of y to (n_samples,), for example using ravel().\n",
      "C:\\Users\\Maxi\\anaconda3\\lib\\site-packages\\ipykernel_launcher.py:19: DataConversionWarning: A column-vector y was passed when a 1d array was expected. Please change the shape of y to (n_samples,), for example using ravel().\n",
      "C:\\Users\\Maxi\\anaconda3\\lib\\site-packages\\ipykernel_launcher.py:19: DataConversionWarning: A column-vector y was passed when a 1d array was expected. Please change the shape of y to (n_samples,), for example using ravel().\n",
      "C:\\Users\\Maxi\\anaconda3\\lib\\site-packages\\ipykernel_launcher.py:19: DataConversionWarning: A column-vector y was passed when a 1d array was expected. Please change the shape of y to (n_samples,), for example using ravel().\n",
      "C:\\Users\\Maxi\\anaconda3\\lib\\site-packages\\ipykernel_launcher.py:19: DataConversionWarning: A column-vector y was passed when a 1d array was expected. Please change the shape of y to (n_samples,), for example using ravel().\n",
      "C:\\Users\\Maxi\\anaconda3\\lib\\site-packages\\ipykernel_launcher.py:19: DataConversionWarning: A column-vector y was passed when a 1d array was expected. Please change the shape of y to (n_samples,), for example using ravel().\n",
      "C:\\Users\\Maxi\\anaconda3\\lib\\site-packages\\ipykernel_launcher.py:19: DataConversionWarning: A column-vector y was passed when a 1d array was expected. Please change the shape of y to (n_samples,), for example using ravel().\n",
      "C:\\Users\\Maxi\\anaconda3\\lib\\site-packages\\ipykernel_launcher.py:19: DataConversionWarning: A column-vector y was passed when a 1d array was expected. Please change the shape of y to (n_samples,), for example using ravel().\n"
     ]
    }
   ],
   "source": [
    "random.seed(42)\n",
    "\n",
    "mse_train_rf_list = []\n",
    "r2_train_rf_list = []\n",
    "\n",
    "mse_test_rf_list = []\n",
    "r2_test_rf_list = []\n",
    "\n",
    "for i in range(10):\n",
    "    random_state = random.randint(0, 5000)\n",
    "    X_train, X_test, y_train, y_test = train_test_split(X, y, random_state=random_state, train_size=0.8)\n",
    "    \n",
    "    X_scaler = StandardScaler().fit(X_train)\n",
    "\n",
    "    X_train_scaled = X_scaler.transform(X_train)\n",
    "    X_test_scaled = X_scaler.transform(X_test)\n",
    "\n",
    "    rf = RandomForestRegressor()\n",
    "    rf.fit(X_train_scaled, y_train)\n",
    "\n",
    "    predictions_train_rf = rf.predict(X_train_scaled)\n",
    "    predictions_test_rf = rf.predict(X_test_scaled)\n",
    "    \n",
    "    mse_train_rf = mean_squared_error(y_train, predictions_train_rf)\n",
    "    r2_train_rf = r2_score(y_train, predictions_train_rf)\n",
    "    mse_test_rf = mean_squared_error(y_test, predictions_test_rf)\n",
    "    r2_test_rf = r2_score(y_test, predictions_test_rf)\n",
    "\n",
    "    mse_train_rf_list.append(mse_train_rf)\n",
    "    r2_train_rf_list.append(r2_train_rf)\n",
    "    mse_test_rf_list.append(mse_test_rf)\n",
    "    r2_test_rf_list.append(r2_test_rf)"
   ]
  },
  {
   "cell_type": "code",
   "execution_count": 43,
   "metadata": {},
   "outputs": [
    {
     "data": {
      "image/png": "[encoded data removed]",
      "text/plain": [
       "<Figure size 432x288 with 1 Axes>"
      ]
     },
     "metadata": {
      "needs_background": "light"
     },
     "output_type": "display_data"
    }
   ],
   "source": [
    "plt.plot(range(10), mse_train_rf_list, label=\"train\")\n",
    "plt.plot(range(10), mse_test_rf_list, label=\"test\")\n",
    "plt.title(\"K-Fold MSE RF\")\n",
    "plt.xlabel(\"K-Fold\")\n",
    "plt.ylabel(\"MSE\")\n",
    "plt.legend()\n",
    "plt.show()"
   ]
  },
  {
   "cell_type": "code",
   "execution_count": 44,
   "metadata": {},
   "outputs": [
    {
     "data": {
      "image/png": "[encoded data removed]",
      "text/plain": [
       "<Figure size 432x288 with 1 Axes>"
      ]
     },
     "metadata": {
      "needs_background": "light"
     },
     "output_type": "display_data"
    }
   ],
   "source": [
    "plt.plot(range(10), r2_train_rf_list, label=\"train\")\n",
    "plt.plot(range(10), r2_test_rf_list, label=\"test\")\n",
    "plt.title(\"K-Fold MSE RF\")\n",
    "plt.xlabel(\"K-Fold\")\n",
    "plt.ylabel(\"R2\")\n",
    "plt.legend()\n",
    "plt.show()"
   ]
  },
  {
   "cell_type": "code",
   "execution_count": 45,
   "metadata": {},
   "outputs": [
    {
     "name": "stdout",
     "output_type": "stream",
     "text": [
      "25114.159652978917\n",
      "0.7628282671253342\n",
      "96342.34104795213\n",
      "-0.02738373987661702\n"
     ]
    }
   ],
   "source": [
    "print(np.mean(mse_train_rf_list))\n",
    "print(np.mean(r2_train_rf))\n",
    "print(np.mean(mse_test_rf))\n",
    "print(np.mean(r2_test_rf))"
   ]
  },
  {
   "cell_type": "code",
   "execution_count": null,
   "metadata": {},
   "outputs": [],
   "source": []
  },
  {
   "cell_type": "code",
   "execution_count": null,
   "metadata": {},
   "outputs": [],
   "source": []
  },
  {
   "cell_type": "code",
   "execution_count": 46,
   "metadata": {},
   "outputs": [],
   "source": [
    "#SCALE on all the data\n",
    "X_scaler_prod = StandardScaler().fit(X)\n",
    "X_scaled_prod = X_scaler_prod.transform(X)"
   ]
  },
  {
   "cell_type": "code",
   "execution_count": 47,
   "metadata": {},
   "outputs": [
    {
     "name": "stderr",
     "output_type": "stream",
     "text": [
      "C:\\Users\\Maxi\\anaconda3\\lib\\site-packages\\ipykernel_launcher.py:2: DataConversionWarning: A column-vector y was passed when a 1d array was expected. Please change the shape of y to (n_samples,), for example using ravel().\n",
      "  \n"
     ]
    },
    {
     "data": {
      "text/plain": [
       "RandomForestRegressor(bootstrap=True, ccp_alpha=0.0, criterion='mse',\n",
       "                      max_depth=None, max_features='auto', max_leaf_nodes=None,\n",
       "                      max_samples=None, min_impurity_decrease=0.0,\n",
       "                      min_impurity_split=None, min_samples_leaf=1,\n",
       "                      min_samples_split=2, min_weight_fraction_leaf=0.0,\n",
       "                      n_estimators=100, n_jobs=None, oob_score=False,\n",
       "                      random_state=None, verbose=0, warm_start=False)"
      ]
     },
     "execution_count": 47,
     "metadata": {},
     "output_type": "execute_result"
    }
   ],
   "source": [
    "rf_prod = RandomForestRegressor()\n",
    "rf_prod.fit(X_scaled_prod, y)"
   ]
  },
  {
   "cell_type": "code",
   "execution_count": 48,
   "metadata": {},
   "outputs": [
    {
     "name": "stdout",
     "output_type": "stream",
     "text": [
      "26972.684345603342\n",
      "0.756188065237521\n"
     ]
    }
   ],
   "source": [
    "predictions_prod_rf = rf_prod.predict(X_scaled_prod)\n",
    "mse_prod_rf = mean_squared_error(y, predictions_prod_rf)\n",
    "r2_prod_rf = r2_score(y, predictions_prod_rf)\n",
    "\n",
    "print(mse_prod_rf)\n",
    "print(r2_prod_rf)"
   ]
  },
  {
   "cell_type": "code",
   "execution_count": 49,
   "metadata": {},
   "outputs": [
    {
     "data": {
      "image/png": "[encoded data removed]",
      "text/plain": [
       "<Figure size 432x288 with 1 Axes>"
      ]
     },
     "metadata": {
      "needs_background": "light"
     },
     "output_type": "display_data"
    }
   ],
   "source": [
    "plt.scatter(predictions_prod_rf, y)\n",
    "plt.title(\"LM PROD Predicted vs Actual\")\n",
    "plt.xlabel(\"predicted\")\n",
    "plt.ylabel(\"actual\")\n",
    "\n",
    "plt.show()"
   ]
  },
  {
   "cell_type": "code",
   "execution_count": 50,
   "metadata": {},
   "outputs": [],
   "source": [
    "import pickle"
   ]
  },
  {
   "cell_type": "code",
   "execution_count": 52,
   "metadata": {},
   "outputs": [],
   "source": [
    "#save the scaler\n",
    "filename = 'finalized_scaler_rf.sav'\n",
    "pickle.dump(X_scaler_prod, open(filename, 'wb'))"
   ]
  },
  {
   "cell_type": "code",
   "execution_count": 53,
   "metadata": {},
   "outputs": [],
   "source": [
    "# save the model to disk\n",
    "filename = 'ml_rf_fp_scaled.sav'\n",
    "pickle.dump(rf_prod, open(filename, 'wb'))"
   ]
  },
  {
   "cell_type": "code",
   "execution_count": 54,
   "metadata": {},
   "outputs": [],
   "source": [
    "loaded_scaler = pickle.load(open('finalized_scaler_rf.sav', 'rb'))\n",
    "loaded_model = pickle.load(open('ml_rf_fp_scaled.sav', 'rb'))"
   ]
  },
  {
   "cell_type": "code",
   "execution_count": 66,
   "metadata": {},
   "outputs": [],
   "source": [
    "#Inputs\n",
    "origin_airport = \"DFW\"\n",
    "destination_airport = \"LAX\""
   ]
  },
  {
   "cell_type": "code",
   "execution_count": 67,
   "metadata": {},
   "outputs": [
    {
     "name": "stdout",
     "output_type": "stream",
     "text": [
      "-32.89595 -97.0372\n",
      "-33.94254 -118.40807\n"
     ]
    }
   ],
   "source": [
    "#Get Latitude and Longitude\n",
    "or_lat = -df.loc[df.Origin==origin_airport,'Origin_Lat'].values[0]\n",
    "or_long = df.loc[df.Origin==origin_airport,'Origin_Long'].values[0]\n",
    "de_lat = -df.loc[df.Origin==destination_airport,'Origin_Lat'].values[0]\n",
    "de_long = df.loc[df.Origin==destination_airport,'Origin_Long'].values[0]\n",
    "\n",
    "print(or_lat, or_long)\n",
    "print(de_lat, de_long)"
   ]
  },
  {
   "cell_type": "code",
   "execution_count": 68,
   "metadata": {},
   "outputs": [],
   "source": [
    "#Distance Calculator\n",
    "def haversine_distance(or_lat, or_long, de_lat, de_long):\n",
    "   r = 6371\n",
    "   phi1 = np.radians(or_lat)\n",
    "   phi2 = np.radians(de_lat)\n",
    "   delta_phi = np.radians(de_lat - or_lat)\n",
    "   delta_lambda = np.radians(de_long - or_long)\n",
    "   a = np.sin(delta_phi / 2)**2 + np.cos(phi1) * np.cos(phi2) *   np.sin(delta_lambda / 2)**2\n",
    "   res = r * (2 * np.arctan2(np.sqrt(a), np.sqrt(1 - a)))\n",
    "   return np.round(res, 2)"
   ]
  },
  {
   "cell_type": "code",
   "execution_count": 69,
   "metadata": {},
   "outputs": [
    {
     "data": {
      "text/plain": [
       "1232.3444799"
      ]
     },
     "execution_count": 69,
     "metadata": {},
     "output_type": "execute_result"
    }
   ],
   "source": [
    "#Convert to miles\n",
    "km = haversine_distance(or_lat, or_long, de_lat, de_long)\n",
    "mi = km * 0.62137\n",
    "mi"
   ]
  },
  {
   "cell_type": "code",
   "execution_count": 70,
   "metadata": {},
   "outputs": [],
   "source": [
    "#Observations\n",
    "number_coupons = 1\n",
    "miles = mi\n",
    "origin_lat = or_lat\n",
    "origin_long = or_long\n",
    "destination_lat = de_lat\n",
    "destination_long = de_long"
   ]
  },
  {
   "cell_type": "code",
   "execution_count": 71,
   "metadata": {},
   "outputs": [],
   "source": [
    "new_obs = [number_coupons, miles, origin_lat, origin_long, destination_lat, destination_long]"
   ]
  },
  {
   "cell_type": "code",
   "execution_count": 72,
   "metadata": {},
   "outputs": [
    {
     "data": {
      "text/plain": [
       "array([1188.03916667])"
      ]
     },
     "execution_count": 72,
     "metadata": {},
     "output_type": "execute_result"
    }
   ],
   "source": [
    "newData_scaled = loaded_scaler.transform([new_obs])\n",
    "loaded_model.predict(newData_scaled)"
   ]
  },
  {
   "cell_type": "code",
   "execution_count": null,
   "metadata": {},
   "outputs": [],
   "source": []
  }
 ],
 "metadata": {
  "kernelspec": {
   "display_name": "Python 3",
   "language": "python",
   "name": "python3"
  },
  "language_info": {
   "codemirror_mode": {
    "name": "ipython",
    "version": 3
   },
   "file_extension": ".py",
   "mimetype": "text/x-python",
   "name": "python",
   "nbconvert_exporter": "python",
   "pygments_lexer": "ipython3",
   "version": "3.7.6"
  }
 },
 "nbformat": 4,
 "nbformat_minor": 4
}
