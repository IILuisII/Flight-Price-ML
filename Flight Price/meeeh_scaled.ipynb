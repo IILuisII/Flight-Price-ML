{
 "cells": [
  {
   "cell_type": "code",
   "execution_count": 1,
   "metadata": {},
   "outputs": [
    {
     "data": {
      "text/html": [
       "<style>.container { width:93% !important; }</style>"
      ],
      "text/plain": [
       "<IPython.core.display.HTML object>"
      ]
     },
     "metadata": {},
     "output_type": "display_data"
    }
   ],
   "source": [
    "from IPython.core.display import display, HTML\n",
    "display(HTML(\"<style>.container { width:93% !important; }</style>\"))"
   ]
  },
  {
   "cell_type": "code",
   "execution_count": 2,
   "metadata": {},
   "outputs": [],
   "source": [
    "# visualizations\n",
    "import matplotlib.pyplot as plt\n",
    "import seaborn as sn\n",
    "\n",
    "# machine learning\n",
    "from sklearn.linear_model import LogisticRegression\n",
    "from sklearn.neighbors import KNeighborsClassifier\n",
    "from sklearn.svm import SVC\n",
    "\n",
    "from sklearn.tree import DecisionTreeClassifier\n",
    "from sklearn.ensemble import BaggingClassifier\n",
    "from sklearn.ensemble import RandomForestClassifier\n",
    "from sklearn.ensemble import AdaBoostClassifier\n",
    "from sklearn.ensemble import GradientBoostingClassifier\n",
    "\n",
    "# machine learning processing\n",
    "from sklearn.model_selection import train_test_split\n",
    "from sklearn.preprocessing import StandardScaler\n",
    "\n",
    "#import metrics\n",
    "from sklearn.metrics import accuracy_score\n",
    "from sklearn.metrics import classification_report\n",
    "from sklearn.metrics import confusion_matrix\n",
    "from sklearn.metrics import roc_auc_score\n",
    "from scikitplot.metrics import plot_roc, plot_confusion_matrix\n",
    "\n",
    "from xgboost import XGBClassifier\n",
    "\n",
    "#basic imports\n",
    "import pandas as pd\n",
    "import numpy as np\n",
    "import os"
   ]
  },
  {
   "cell_type": "code",
   "execution_count": 3,
   "metadata": {},
   "outputs": [
    {
     "data": {
      "text/html": [
       "<div>\n",
       "<style scoped>\n",
       "    .dataframe tbody tr th:only-of-type {\n",
       "        vertical-align: middle;\n",
       "    }\n",
       "\n",
       "    .dataframe tbody tr th {\n",
       "        vertical-align: top;\n",
       "    }\n",
       "\n",
       "    .dataframe thead th {\n",
       "        text-align: right;\n",
       "    }\n",
       "</style>\n",
       "<table border=\"1\" class=\"dataframe\">\n",
       "  <thead>\n",
       "    <tr style=\"text-align: right;\">\n",
       "      <th></th>\n",
       "      <th>Itinerary_ID</th>\n",
       "      <th>Year</th>\n",
       "      <th>Quarter</th>\n",
       "      <th>Number_Coupons</th>\n",
       "      <th>Origin_Airport_ID</th>\n",
       "      <th>Origin_Airport_Seq_ID</th>\n",
       "      <th>Origin_City_Market_ID</th>\n",
       "      <th>Origin</th>\n",
       "      <th>Origin_State</th>\n",
       "      <th>Origin_WAC</th>\n",
       "      <th>...</th>\n",
       "      <th>Dest_City_Market_ID</th>\n",
       "      <th>Destination</th>\n",
       "      <th>Dest_State</th>\n",
       "      <th>Dest_WAC</th>\n",
       "      <th>Flight_Distance</th>\n",
       "      <th>Fare</th>\n",
       "      <th>Ticket_Carrier</th>\n",
       "      <th>Operating_Carrier</th>\n",
       "      <th>Reporting_Carrier</th>\n",
       "      <th>Number_Passengers</th>\n",
       "    </tr>\n",
       "  </thead>\n",
       "  <tbody>\n",
       "    <tr>\n",
       "      <th>178977</th>\n",
       "      <td>20201132820</td>\n",
       "      <td>2020</td>\n",
       "      <td>1</td>\n",
       "      <td>2</td>\n",
       "      <td>10423</td>\n",
       "      <td>1042302</td>\n",
       "      <td>30423</td>\n",
       "      <td>AUS</td>\n",
       "      <td>TX</td>\n",
       "      <td>74</td>\n",
       "      <td>...</td>\n",
       "      <td>30194</td>\n",
       "      <td>DFW</td>\n",
       "      <td>TX</td>\n",
       "      <td>74</td>\n",
       "      <td>190</td>\n",
       "      <td>76</td>\n",
       "      <td>AA</td>\n",
       "      <td>AA</td>\n",
       "      <td>AA</td>\n",
       "      <td>1</td>\n",
       "    </tr>\n",
       "    <tr>\n",
       "      <th>143072</th>\n",
       "      <td>20201552490</td>\n",
       "      <td>2020</td>\n",
       "      <td>1</td>\n",
       "      <td>4</td>\n",
       "      <td>13244</td>\n",
       "      <td>1324402</td>\n",
       "      <td>33244</td>\n",
       "      <td>MEM</td>\n",
       "      <td>TN</td>\n",
       "      <td>54</td>\n",
       "      <td>...</td>\n",
       "      <td>30194</td>\n",
       "      <td>DFW</td>\n",
       "      <td>TX</td>\n",
       "      <td>74</td>\n",
       "      <td>431</td>\n",
       "      <td>726</td>\n",
       "      <td>AA</td>\n",
       "      <td>AA</td>\n",
       "      <td>AA</td>\n",
       "      <td>1</td>\n",
       "    </tr>\n",
       "    <tr>\n",
       "      <th>216423</th>\n",
       "      <td>20201193409</td>\n",
       "      <td>2020</td>\n",
       "      <td>1</td>\n",
       "      <td>3</td>\n",
       "      <td>11057</td>\n",
       "      <td>1105703</td>\n",
       "      <td>31057</td>\n",
       "      <td>CLT</td>\n",
       "      <td>NC</td>\n",
       "      <td>36</td>\n",
       "      <td>...</td>\n",
       "      <td>31423</td>\n",
       "      <td>DSM</td>\n",
       "      <td>IA</td>\n",
       "      <td>61</td>\n",
       "      <td>815</td>\n",
       "      <td>348</td>\n",
       "      <td>AA</td>\n",
       "      <td>OH</td>\n",
       "      <td>AA</td>\n",
       "      <td>1</td>\n",
       "    </tr>\n",
       "    <tr>\n",
       "      <th>218209</th>\n",
       "      <td>20201250110</td>\n",
       "      <td>2020</td>\n",
       "      <td>1</td>\n",
       "      <td>2</td>\n",
       "      <td>11252</td>\n",
       "      <td>1125203</td>\n",
       "      <td>31252</td>\n",
       "      <td>DAB</td>\n",
       "      <td>FL</td>\n",
       "      <td>33</td>\n",
       "      <td>...</td>\n",
       "      <td>31057</td>\n",
       "      <td>CLT</td>\n",
       "      <td>NC</td>\n",
       "      <td>36</td>\n",
       "      <td>416</td>\n",
       "      <td>216</td>\n",
       "      <td>AA</td>\n",
       "      <td>AA</td>\n",
       "      <td>AA</td>\n",
       "      <td>1</td>\n",
       "    </tr>\n",
       "    <tr>\n",
       "      <th>5942</th>\n",
       "      <td>20201308219</td>\n",
       "      <td>2020</td>\n",
       "      <td>1</td>\n",
       "      <td>2</td>\n",
       "      <td>13303</td>\n",
       "      <td>1330303</td>\n",
       "      <td>32467</td>\n",
       "      <td>MIA</td>\n",
       "      <td>FL</td>\n",
       "      <td>33</td>\n",
       "      <td>...</td>\n",
       "      <td>30194</td>\n",
       "      <td>DFW</td>\n",
       "      <td>TX</td>\n",
       "      <td>74</td>\n",
       "      <td>1121</td>\n",
       "      <td>705</td>\n",
       "      <td>AA</td>\n",
       "      <td>AA</td>\n",
       "      <td>AA</td>\n",
       "      <td>1</td>\n",
       "    </tr>\n",
       "    <tr>\n",
       "      <th>...</th>\n",
       "      <td>...</td>\n",
       "      <td>...</td>\n",
       "      <td>...</td>\n",
       "      <td>...</td>\n",
       "      <td>...</td>\n",
       "      <td>...</td>\n",
       "      <td>...</td>\n",
       "      <td>...</td>\n",
       "      <td>...</td>\n",
       "      <td>...</td>\n",
       "      <td>...</td>\n",
       "      <td>...</td>\n",
       "      <td>...</td>\n",
       "      <td>...</td>\n",
       "      <td>...</td>\n",
       "      <td>...</td>\n",
       "      <td>...</td>\n",
       "      <td>...</td>\n",
       "      <td>...</td>\n",
       "      <td>...</td>\n",
       "      <td>...</td>\n",
       "    </tr>\n",
       "    <tr>\n",
       "      <th>260888</th>\n",
       "      <td>20201149064</td>\n",
       "      <td>2020</td>\n",
       "      <td>1</td>\n",
       "      <td>4</td>\n",
       "      <td>13930</td>\n",
       "      <td>1393007</td>\n",
       "      <td>30977</td>\n",
       "      <td>ORD</td>\n",
       "      <td>IL</td>\n",
       "      <td>41</td>\n",
       "      <td>...</td>\n",
       "      <td>33570</td>\n",
       "      <td>SAN</td>\n",
       "      <td>CA</td>\n",
       "      <td>91</td>\n",
       "      <td>1723</td>\n",
       "      <td>562</td>\n",
       "      <td>AA</td>\n",
       "      <td>AA</td>\n",
       "      <td>AA</td>\n",
       "      <td>1</td>\n",
       "    </tr>\n",
       "    <tr>\n",
       "      <th>25222</th>\n",
       "      <td>2020148667</td>\n",
       "      <td>2020</td>\n",
       "      <td>1</td>\n",
       "      <td>4</td>\n",
       "      <td>10397</td>\n",
       "      <td>1039707</td>\n",
       "      <td>30397</td>\n",
       "      <td>ATL</td>\n",
       "      <td>GA</td>\n",
       "      <td>34</td>\n",
       "      <td>...</td>\n",
       "      <td>30255</td>\n",
       "      <td>HSV</td>\n",
       "      <td>AL</td>\n",
       "      <td>51</td>\n",
       "      <td>151</td>\n",
       "      <td>729</td>\n",
       "      <td>DL</td>\n",
       "      <td>DL</td>\n",
       "      <td>9E</td>\n",
       "      <td>1</td>\n",
       "    </tr>\n",
       "    <tr>\n",
       "      <th>19850</th>\n",
       "      <td>20201401939</td>\n",
       "      <td>2020</td>\n",
       "      <td>1</td>\n",
       "      <td>4</td>\n",
       "      <td>11298</td>\n",
       "      <td>1129806</td>\n",
       "      <td>30194</td>\n",
       "      <td>DFW</td>\n",
       "      <td>TX</td>\n",
       "      <td>74</td>\n",
       "      <td>...</td>\n",
       "      <td>32600</td>\n",
       "      <td>LIT</td>\n",
       "      <td>AR</td>\n",
       "      <td>71</td>\n",
       "      <td>304</td>\n",
       "      <td>376</td>\n",
       "      <td>AA</td>\n",
       "      <td>MQ</td>\n",
       "      <td>AA</td>\n",
       "      <td>2</td>\n",
       "    </tr>\n",
       "    <tr>\n",
       "      <th>17930</th>\n",
       "      <td>20201312904</td>\n",
       "      <td>2020</td>\n",
       "      <td>1</td>\n",
       "      <td>3</td>\n",
       "      <td>13891</td>\n",
       "      <td>1389101</td>\n",
       "      <td>32575</td>\n",
       "      <td>ONT</td>\n",
       "      <td>CA</td>\n",
       "      <td>91</td>\n",
       "      <td>...</td>\n",
       "      <td>32575</td>\n",
       "      <td>LAX</td>\n",
       "      <td>CA</td>\n",
       "      <td>91</td>\n",
       "      <td>47</td>\n",
       "      <td>808</td>\n",
       "      <td>--</td>\n",
       "      <td>--</td>\n",
       "      <td>AA</td>\n",
       "      <td>1</td>\n",
       "    </tr>\n",
       "    <tr>\n",
       "      <th>38738</th>\n",
       "      <td>20201284946</td>\n",
       "      <td>2020</td>\n",
       "      <td>1</td>\n",
       "      <td>4</td>\n",
       "      <td>11057</td>\n",
       "      <td>1105703</td>\n",
       "      <td>31057</td>\n",
       "      <td>CLT</td>\n",
       "      <td>NC</td>\n",
       "      <td>36</td>\n",
       "      <td>...</td>\n",
       "      <td>32223</td>\n",
       "      <td>HTS</td>\n",
       "      <td>WV</td>\n",
       "      <td>39</td>\n",
       "      <td>235</td>\n",
       "      <td>459</td>\n",
       "      <td>AA</td>\n",
       "      <td>PT</td>\n",
       "      <td>AA</td>\n",
       "      <td>1</td>\n",
       "    </tr>\n",
       "  </tbody>\n",
       "</table>\n",
       "<p>2625 rows × 22 columns</p>\n",
       "</div>"
      ],
      "text/plain": [
       "        Itinerary_ID  Year  Quarter  Number_Coupons  Origin_Airport_ID  \\\n",
       "178977   20201132820  2020        1               2              10423   \n",
       "143072   20201552490  2020        1               4              13244   \n",
       "216423   20201193409  2020        1               3              11057   \n",
       "218209   20201250110  2020        1               2              11252   \n",
       "5942     20201308219  2020        1               2              13303   \n",
       "...              ...   ...      ...             ...                ...   \n",
       "260888   20201149064  2020        1               4              13930   \n",
       "25222     2020148667  2020        1               4              10397   \n",
       "19850    20201401939  2020        1               4              11298   \n",
       "17930    20201312904  2020        1               3              13891   \n",
       "38738    20201284946  2020        1               4              11057   \n",
       "\n",
       "        Origin_Airport_Seq_ID  Origin_City_Market_ID Origin Origin_State  \\\n",
       "178977                1042302                  30423    AUS           TX   \n",
       "143072                1324402                  33244    MEM           TN   \n",
       "216423                1105703                  31057    CLT           NC   \n",
       "218209                1125203                  31252    DAB           FL   \n",
       "5942                  1330303                  32467    MIA           FL   \n",
       "...                       ...                    ...    ...          ...   \n",
       "260888                1393007                  30977    ORD           IL   \n",
       "25222                 1039707                  30397    ATL           GA   \n",
       "19850                 1129806                  30194    DFW           TX   \n",
       "17930                 1389101                  32575    ONT           CA   \n",
       "38738                 1105703                  31057    CLT           NC   \n",
       "\n",
       "        Origin_WAC  ...  Dest_City_Market_ID  Destination  Dest_State  \\\n",
       "178977          74  ...                30194          DFW          TX   \n",
       "143072          54  ...                30194          DFW          TX   \n",
       "216423          36  ...                31423          DSM          IA   \n",
       "218209          33  ...                31057          CLT          NC   \n",
       "5942            33  ...                30194          DFW          TX   \n",
       "...            ...  ...                  ...          ...         ...   \n",
       "260888          41  ...                33570          SAN          CA   \n",
       "25222           34  ...                30255          HSV          AL   \n",
       "19850           74  ...                32600          LIT          AR   \n",
       "17930           91  ...                32575          LAX          CA   \n",
       "38738           36  ...                32223          HTS          WV   \n",
       "\n",
       "       Dest_WAC Flight_Distance  Fare  Ticket_Carrier  Operating_Carrier  \\\n",
       "178977       74             190    76              AA                 AA   \n",
       "143072       74             431   726              AA                 AA   \n",
       "216423       61             815   348              AA                 OH   \n",
       "218209       36             416   216              AA                 AA   \n",
       "5942         74            1121   705              AA                 AA   \n",
       "...         ...             ...   ...             ...                ...   \n",
       "260888       91            1723   562              AA                 AA   \n",
       "25222        51             151   729              DL                 DL   \n",
       "19850        71             304   376              AA                 MQ   \n",
       "17930        91              47   808              --                 --   \n",
       "38738        39             235   459              AA                 PT   \n",
       "\n",
       "       Reporting_Carrier Number_Passengers  \n",
       "178977                AA                 1  \n",
       "143072                AA                 1  \n",
       "216423                AA                 1  \n",
       "218209                AA                 1  \n",
       "5942                  AA                 1  \n",
       "...                  ...               ...  \n",
       "260888                AA                 1  \n",
       "25222                 9E                 1  \n",
       "19850                 AA                 2  \n",
       "17930                 AA                 1  \n",
       "38738                 AA                 1  \n",
       "\n",
       "[2625 rows x 22 columns]"
      ]
     },
     "execution_count": 3,
     "metadata": {},
     "output_type": "execute_result"
    }
   ],
   "source": [
    "df = pd.read_csv(\"machineLearningData.csv\")\n",
    "df = df.sample(frac=.01, random_state=42)\n",
    "df"
   ]
  },
  {
   "cell_type": "code",
   "execution_count": 4,
   "metadata": {},
   "outputs": [
    {
     "name": "stdout",
     "output_type": "stream",
     "text": [
      "<class 'pandas.core.frame.DataFrame'>\n",
      "Int64Index: 2625 entries, 178977 to 38738\n",
      "Data columns (total 22 columns):\n",
      " #   Column                 Non-Null Count  Dtype \n",
      "---  ------                 --------------  ----- \n",
      " 0   Itinerary_ID           2625 non-null   int64 \n",
      " 1   Year                   2625 non-null   int64 \n",
      " 2   Quarter                2625 non-null   int64 \n",
      " 3   Number_Coupons         2625 non-null   int64 \n",
      " 4   Origin_Airport_ID      2625 non-null   int64 \n",
      " 5   Origin_Airport_Seq_ID  2625 non-null   int64 \n",
      " 6   Origin_City_Market_ID  2625 non-null   int64 \n",
      " 7   Origin                 2625 non-null   object\n",
      " 8   Origin_State           2625 non-null   object\n",
      " 9   Origin_WAC             2625 non-null   int64 \n",
      " 10  Dest_Airport_ID        2625 non-null   int64 \n",
      " 11  Dest_Airport_Seq_ID    2625 non-null   int64 \n",
      " 12  Dest_City_Market_ID    2625 non-null   int64 \n",
      " 13  Destination            2625 non-null   object\n",
      " 14  Dest_State             2625 non-null   object\n",
      " 15  Dest_WAC               2625 non-null   int64 \n",
      " 16  Flight_Distance        2625 non-null   int64 \n",
      " 17  Fare                   2625 non-null   int64 \n",
      " 18  Ticket_Carrier         2625 non-null   object\n",
      " 19  Operating_Carrier      2625 non-null   object\n",
      " 20  Reporting_Carrier      2625 non-null   object\n",
      " 21  Number_Passengers      2625 non-null   int64 \n",
      "dtypes: int64(15), object(7)\n",
      "memory usage: 471.7+ KB\n"
     ]
    }
   ],
   "source": [
    "df.info()"
   ]
  },
  {
   "cell_type": "code",
   "execution_count": 5,
   "metadata": {},
   "outputs": [
    {
     "data": {
      "text/html": [
       "<div>\n",
       "<style scoped>\n",
       "    .dataframe tbody tr th:only-of-type {\n",
       "        vertical-align: middle;\n",
       "    }\n",
       "\n",
       "    .dataframe tbody tr th {\n",
       "        vertical-align: top;\n",
       "    }\n",
       "\n",
       "    .dataframe thead th {\n",
       "        text-align: right;\n",
       "    }\n",
       "</style>\n",
       "<table border=\"1\" class=\"dataframe\">\n",
       "  <thead>\n",
       "    <tr style=\"text-align: right;\">\n",
       "      <th></th>\n",
       "      <th>Itinerary_ID</th>\n",
       "      <th>Year</th>\n",
       "      <th>Quarter</th>\n",
       "      <th>Number_Coupons</th>\n",
       "      <th>Origin_Airport_ID</th>\n",
       "      <th>Origin_Airport_Seq_ID</th>\n",
       "      <th>Origin_City_Market_ID</th>\n",
       "      <th>Origin_WAC</th>\n",
       "      <th>Dest_Airport_ID</th>\n",
       "      <th>Dest_Airport_Seq_ID</th>\n",
       "      <th>Dest_City_Market_ID</th>\n",
       "      <th>Dest_WAC</th>\n",
       "      <th>Flight_Distance</th>\n",
       "      <th>Fare</th>\n",
       "      <th>Number_Passengers</th>\n",
       "    </tr>\n",
       "  </thead>\n",
       "  <tbody>\n",
       "    <tr>\n",
       "      <th>count</th>\n",
       "      <td>2.625000e+03</td>\n",
       "      <td>2625.0</td>\n",
       "      <td>2625.0</td>\n",
       "      <td>2625.000000</td>\n",
       "      <td>2625.000000</td>\n",
       "      <td>2.625000e+03</td>\n",
       "      <td>2625.000000</td>\n",
       "      <td>2625.000000</td>\n",
       "      <td>2625.000000</td>\n",
       "      <td>2.625000e+03</td>\n",
       "      <td>2625.000000</td>\n",
       "      <td>2625.000000</td>\n",
       "      <td>2625.000000</td>\n",
       "      <td>2625.000000</td>\n",
       "      <td>2625.000000</td>\n",
       "    </tr>\n",
       "    <tr>\n",
       "      <th>mean</th>\n",
       "      <td>1.588946e+10</td>\n",
       "      <td>2020.0</td>\n",
       "      <td>1.0</td>\n",
       "      <td>3.066286</td>\n",
       "      <td>12119.423238</td>\n",
       "      <td>1.211946e+06</td>\n",
       "      <td>31439.819048</td>\n",
       "      <td>49.530667</td>\n",
       "      <td>12318.455619</td>\n",
       "      <td>1.231850e+06</td>\n",
       "      <td>31542.502095</td>\n",
       "      <td>50.346667</td>\n",
       "      <td>832.561143</td>\n",
       "      <td>464.615238</td>\n",
       "      <td>1.500190</td>\n",
       "    </tr>\n",
       "    <tr>\n",
       "      <th>std</th>\n",
       "      <td>7.793202e+09</td>\n",
       "      <td>0.0</td>\n",
       "      <td>0.0</td>\n",
       "      <td>1.174303</td>\n",
       "      <td>1353.379316</td>\n",
       "      <td>1.353376e+05</td>\n",
       "      <td>1194.940545</td>\n",
       "      <td>23.903211</td>\n",
       "      <td>1466.070221</td>\n",
       "      <td>1.466066e+05</td>\n",
       "      <td>1294.537064</td>\n",
       "      <td>24.020194</td>\n",
       "      <td>658.788394</td>\n",
       "      <td>359.230031</td>\n",
       "      <td>3.228131</td>\n",
       "    </tr>\n",
       "    <tr>\n",
       "      <th>min</th>\n",
       "      <td>2.020135e+07</td>\n",
       "      <td>2020.0</td>\n",
       "      <td>1.0</td>\n",
       "      <td>1.000000</td>\n",
       "      <td>10135.000000</td>\n",
       "      <td>1.013506e+06</td>\n",
       "      <td>30135.000000</td>\n",
       "      <td>2.000000</td>\n",
       "      <td>10135.000000</td>\n",
       "      <td>1.013506e+06</td>\n",
       "      <td>30135.000000</td>\n",
       "      <td>1.000000</td>\n",
       "      <td>11.000000</td>\n",
       "      <td>0.000000</td>\n",
       "      <td>1.000000</td>\n",
       "    </tr>\n",
       "    <tr>\n",
       "      <th>25%</th>\n",
       "      <td>2.020111e+10</td>\n",
       "      <td>2020.0</td>\n",
       "      <td>1.0</td>\n",
       "      <td>2.000000</td>\n",
       "      <td>11057.000000</td>\n",
       "      <td>1.105703e+06</td>\n",
       "      <td>30436.000000</td>\n",
       "      <td>33.000000</td>\n",
       "      <td>11057.000000</td>\n",
       "      <td>1.105703e+06</td>\n",
       "      <td>30466.000000</td>\n",
       "      <td>34.000000</td>\n",
       "      <td>361.000000</td>\n",
       "      <td>249.000000</td>\n",
       "      <td>1.000000</td>\n",
       "    </tr>\n",
       "    <tr>\n",
       "      <th>50%</th>\n",
       "      <td>2.020126e+10</td>\n",
       "      <td>2020.0</td>\n",
       "      <td>1.0</td>\n",
       "      <td>3.000000</td>\n",
       "      <td>11433.000000</td>\n",
       "      <td>1.143302e+06</td>\n",
       "      <td>31057.000000</td>\n",
       "      <td>41.000000</td>\n",
       "      <td>11638.000000</td>\n",
       "      <td>1.163807e+06</td>\n",
       "      <td>31057.000000</td>\n",
       "      <td>41.000000</td>\n",
       "      <td>632.000000</td>\n",
       "      <td>409.000000</td>\n",
       "      <td>1.000000</td>\n",
       "    </tr>\n",
       "    <tr>\n",
       "      <th>75%</th>\n",
       "      <td>2.020142e+10</td>\n",
       "      <td>2020.0</td>\n",
       "      <td>1.0</td>\n",
       "      <td>4.000000</td>\n",
       "      <td>13204.000000</td>\n",
       "      <td>1.320402e+06</td>\n",
       "      <td>32211.000000</td>\n",
       "      <td>74.000000</td>\n",
       "      <td>13495.000000</td>\n",
       "      <td>1.349505e+06</td>\n",
       "      <td>32457.000000</td>\n",
       "      <td>74.000000</td>\n",
       "      <td>1106.000000</td>\n",
       "      <td>595.000000</td>\n",
       "      <td>1.000000</td>\n",
       "    </tr>\n",
       "    <tr>\n",
       "      <th>max</th>\n",
       "      <td>2.020161e+10</td>\n",
       "      <td>2020.0</td>\n",
       "      <td>1.0</td>\n",
       "      <td>8.000000</td>\n",
       "      <td>16218.000000</td>\n",
       "      <td>1.621802e+06</td>\n",
       "      <td>35412.000000</td>\n",
       "      <td>93.000000</td>\n",
       "      <td>16218.000000</td>\n",
       "      <td>1.621802e+06</td>\n",
       "      <td>35412.000000</td>\n",
       "      <td>93.000000</td>\n",
       "      <td>4502.000000</td>\n",
       "      <td>5026.000000</td>\n",
       "      <td>81.000000</td>\n",
       "    </tr>\n",
       "  </tbody>\n",
       "</table>\n",
       "</div>"
      ],
      "text/plain": [
       "       Itinerary_ID    Year  Quarter  Number_Coupons  Origin_Airport_ID  \\\n",
       "count  2.625000e+03  2625.0   2625.0     2625.000000        2625.000000   \n",
       "mean   1.588946e+10  2020.0      1.0        3.066286       12119.423238   \n",
       "std    7.793202e+09     0.0      0.0        1.174303        1353.379316   \n",
       "min    2.020135e+07  2020.0      1.0        1.000000       10135.000000   \n",
       "25%    2.020111e+10  2020.0      1.0        2.000000       11057.000000   \n",
       "50%    2.020126e+10  2020.0      1.0        3.000000       11433.000000   \n",
       "75%    2.020142e+10  2020.0      1.0        4.000000       13204.000000   \n",
       "max    2.020161e+10  2020.0      1.0        8.000000       16218.000000   \n",
       "\n",
       "       Origin_Airport_Seq_ID  Origin_City_Market_ID   Origin_WAC  \\\n",
       "count           2.625000e+03            2625.000000  2625.000000   \n",
       "mean            1.211946e+06           31439.819048    49.530667   \n",
       "std             1.353376e+05            1194.940545    23.903211   \n",
       "min             1.013506e+06           30135.000000     2.000000   \n",
       "25%             1.105703e+06           30436.000000    33.000000   \n",
       "50%             1.143302e+06           31057.000000    41.000000   \n",
       "75%             1.320402e+06           32211.000000    74.000000   \n",
       "max             1.621802e+06           35412.000000    93.000000   \n",
       "\n",
       "       Dest_Airport_ID  Dest_Airport_Seq_ID  Dest_City_Market_ID     Dest_WAC  \\\n",
       "count      2625.000000         2.625000e+03          2625.000000  2625.000000   \n",
       "mean      12318.455619         1.231850e+06         31542.502095    50.346667   \n",
       "std        1466.070221         1.466066e+05          1294.537064    24.020194   \n",
       "min       10135.000000         1.013506e+06         30135.000000     1.000000   \n",
       "25%       11057.000000         1.105703e+06         30466.000000    34.000000   \n",
       "50%       11638.000000         1.163807e+06         31057.000000    41.000000   \n",
       "75%       13495.000000         1.349505e+06         32457.000000    74.000000   \n",
       "max       16218.000000         1.621802e+06         35412.000000    93.000000   \n",
       "\n",
       "       Flight_Distance         Fare  Number_Passengers  \n",
       "count      2625.000000  2625.000000        2625.000000  \n",
       "mean        832.561143   464.615238           1.500190  \n",
       "std         658.788394   359.230031           3.228131  \n",
       "min          11.000000     0.000000           1.000000  \n",
       "25%         361.000000   249.000000           1.000000  \n",
       "50%         632.000000   409.000000           1.000000  \n",
       "75%        1106.000000   595.000000           1.000000  \n",
       "max        4502.000000  5026.000000          81.000000  "
      ]
     },
     "execution_count": 5,
     "metadata": {},
     "output_type": "execute_result"
    }
   ],
   "source": [
    "df.describe()"
   ]
  },
  {
   "cell_type": "code",
   "execution_count": 6,
   "metadata": {},
   "outputs": [
    {
     "data": {
      "text/plain": [
       "2625"
      ]
     },
     "execution_count": 6,
     "metadata": {},
     "output_type": "execute_result"
    }
   ],
   "source": [
    "len(df)"
   ]
  },
  {
   "cell_type": "code",
   "execution_count": 7,
   "metadata": {},
   "outputs": [],
   "source": [
    "#df = pd.get_dummies(df, columns=[\"Origin\", \"Destination\"])"
   ]
  },
  {
   "cell_type": "code",
   "execution_count": 8,
   "metadata": {},
   "outputs": [
    {
     "data": {
      "text/html": [
       "<div>\n",
       "<style scoped>\n",
       "    .dataframe tbody tr th:only-of-type {\n",
       "        vertical-align: middle;\n",
       "    }\n",
       "\n",
       "    .dataframe tbody tr th {\n",
       "        vertical-align: top;\n",
       "    }\n",
       "\n",
       "    .dataframe thead th {\n",
       "        text-align: right;\n",
       "    }\n",
       "</style>\n",
       "<table border=\"1\" class=\"dataframe\">\n",
       "  <thead>\n",
       "    <tr style=\"text-align: right;\">\n",
       "      <th></th>\n",
       "      <th>Itinerary_ID</th>\n",
       "      <th>Year</th>\n",
       "      <th>Quarter</th>\n",
       "      <th>Number_Coupons</th>\n",
       "      <th>Origin_Airport_ID</th>\n",
       "      <th>Origin_Airport_Seq_ID</th>\n",
       "      <th>Origin_City_Market_ID</th>\n",
       "      <th>Origin_WAC</th>\n",
       "      <th>Dest_Airport_ID</th>\n",
       "      <th>Dest_Airport_Seq_ID</th>\n",
       "      <th>Dest_City_Market_ID</th>\n",
       "      <th>Dest_WAC</th>\n",
       "      <th>Flight_Distance</th>\n",
       "      <th>Fare</th>\n",
       "      <th>Number_Passengers</th>\n",
       "    </tr>\n",
       "  </thead>\n",
       "  <tbody>\n",
       "    <tr>\n",
       "      <th>Itinerary_ID</th>\n",
       "      <td>1.000000</td>\n",
       "      <td>NaN</td>\n",
       "      <td>NaN</td>\n",
       "      <td>-0.072104</td>\n",
       "      <td>0.034343</td>\n",
       "      <td>0.034343</td>\n",
       "      <td>-0.048618</td>\n",
       "      <td>0.179299</td>\n",
       "      <td>0.069650</td>\n",
       "      <td>0.069650</td>\n",
       "      <td>-0.020531</td>\n",
       "      <td>0.199376</td>\n",
       "      <td>0.199775</td>\n",
       "      <td>-0.005896</td>\n",
       "      <td>0.062794</td>\n",
       "    </tr>\n",
       "    <tr>\n",
       "      <th>Year</th>\n",
       "      <td>NaN</td>\n",
       "      <td>NaN</td>\n",
       "      <td>NaN</td>\n",
       "      <td>NaN</td>\n",
       "      <td>NaN</td>\n",
       "      <td>NaN</td>\n",
       "      <td>NaN</td>\n",
       "      <td>NaN</td>\n",
       "      <td>NaN</td>\n",
       "      <td>NaN</td>\n",
       "      <td>NaN</td>\n",
       "      <td>NaN</td>\n",
       "      <td>NaN</td>\n",
       "      <td>NaN</td>\n",
       "      <td>NaN</td>\n",
       "    </tr>\n",
       "    <tr>\n",
       "      <th>Quarter</th>\n",
       "      <td>NaN</td>\n",
       "      <td>NaN</td>\n",
       "      <td>NaN</td>\n",
       "      <td>NaN</td>\n",
       "      <td>NaN</td>\n",
       "      <td>NaN</td>\n",
       "      <td>NaN</td>\n",
       "      <td>NaN</td>\n",
       "      <td>NaN</td>\n",
       "      <td>NaN</td>\n",
       "      <td>NaN</td>\n",
       "      <td>NaN</td>\n",
       "      <td>NaN</td>\n",
       "      <td>NaN</td>\n",
       "      <td>NaN</td>\n",
       "    </tr>\n",
       "    <tr>\n",
       "      <th>Number_Coupons</th>\n",
       "      <td>-0.072104</td>\n",
       "      <td>NaN</td>\n",
       "      <td>NaN</td>\n",
       "      <td>1.000000</td>\n",
       "      <td>-0.017070</td>\n",
       "      <td>-0.017069</td>\n",
       "      <td>-0.013658</td>\n",
       "      <td>0.003539</td>\n",
       "      <td>-0.101578</td>\n",
       "      <td>-0.101578</td>\n",
       "      <td>-0.052778</td>\n",
       "      <td>-0.039942</td>\n",
       "      <td>-0.092409</td>\n",
       "      <td>0.233838</td>\n",
       "      <td>-0.162664</td>\n",
       "    </tr>\n",
       "    <tr>\n",
       "      <th>Origin_Airport_ID</th>\n",
       "      <td>0.034343</td>\n",
       "      <td>NaN</td>\n",
       "      <td>NaN</td>\n",
       "      <td>-0.017070</td>\n",
       "      <td>1.000000</td>\n",
       "      <td>1.000000</td>\n",
       "      <td>0.672392</td>\n",
       "      <td>0.114074</td>\n",
       "      <td>-0.010295</td>\n",
       "      <td>-0.010294</td>\n",
       "      <td>-0.055409</td>\n",
       "      <td>0.016525</td>\n",
       "      <td>0.134343</td>\n",
       "      <td>-0.008612</td>\n",
       "      <td>0.017811</td>\n",
       "    </tr>\n",
       "    <tr>\n",
       "      <th>Origin_Airport_Seq_ID</th>\n",
       "      <td>0.034343</td>\n",
       "      <td>NaN</td>\n",
       "      <td>NaN</td>\n",
       "      <td>-0.017069</td>\n",
       "      <td>1.000000</td>\n",
       "      <td>1.000000</td>\n",
       "      <td>0.672392</td>\n",
       "      <td>0.114077</td>\n",
       "      <td>-0.010293</td>\n",
       "      <td>-0.010293</td>\n",
       "      <td>-0.055407</td>\n",
       "      <td>0.016526</td>\n",
       "      <td>0.134345</td>\n",
       "      <td>-0.008611</td>\n",
       "      <td>0.017811</td>\n",
       "    </tr>\n",
       "    <tr>\n",
       "      <th>Origin_City_Market_ID</th>\n",
       "      <td>-0.048618</td>\n",
       "      <td>NaN</td>\n",
       "      <td>NaN</td>\n",
       "      <td>-0.013658</td>\n",
       "      <td>0.672392</td>\n",
       "      <td>0.672392</td>\n",
       "      <td>1.000000</td>\n",
       "      <td>-0.141665</td>\n",
       "      <td>-0.072792</td>\n",
       "      <td>-0.072791</td>\n",
       "      <td>-0.136783</td>\n",
       "      <td>-0.072878</td>\n",
       "      <td>0.064475</td>\n",
       "      <td>-0.007483</td>\n",
       "      <td>-0.015242</td>\n",
       "    </tr>\n",
       "    <tr>\n",
       "      <th>Origin_WAC</th>\n",
       "      <td>0.179299</td>\n",
       "      <td>NaN</td>\n",
       "      <td>NaN</td>\n",
       "      <td>0.003539</td>\n",
       "      <td>0.114074</td>\n",
       "      <td>0.114077</td>\n",
       "      <td>-0.141665</td>\n",
       "      <td>1.000000</td>\n",
       "      <td>0.071786</td>\n",
       "      <td>0.071786</td>\n",
       "      <td>-0.031464</td>\n",
       "      <td>0.270098</td>\n",
       "      <td>0.110287</td>\n",
       "      <td>0.057425</td>\n",
       "      <td>0.022769</td>\n",
       "    </tr>\n",
       "    <tr>\n",
       "      <th>Dest_Airport_ID</th>\n",
       "      <td>0.069650</td>\n",
       "      <td>NaN</td>\n",
       "      <td>NaN</td>\n",
       "      <td>-0.101578</td>\n",
       "      <td>-0.010295</td>\n",
       "      <td>-0.010293</td>\n",
       "      <td>-0.072792</td>\n",
       "      <td>0.071786</td>\n",
       "      <td>1.000000</td>\n",
       "      <td>1.000000</td>\n",
       "      <td>0.653258</td>\n",
       "      <td>0.133666</td>\n",
       "      <td>0.160709</td>\n",
       "      <td>0.002859</td>\n",
       "      <td>0.007754</td>\n",
       "    </tr>\n",
       "    <tr>\n",
       "      <th>Dest_Airport_Seq_ID</th>\n",
       "      <td>0.069650</td>\n",
       "      <td>NaN</td>\n",
       "      <td>NaN</td>\n",
       "      <td>-0.101578</td>\n",
       "      <td>-0.010294</td>\n",
       "      <td>-0.010293</td>\n",
       "      <td>-0.072791</td>\n",
       "      <td>0.071786</td>\n",
       "      <td>1.000000</td>\n",
       "      <td>1.000000</td>\n",
       "      <td>0.653257</td>\n",
       "      <td>0.133668</td>\n",
       "      <td>0.160711</td>\n",
       "      <td>0.002860</td>\n",
       "      <td>0.007754</td>\n",
       "    </tr>\n",
       "    <tr>\n",
       "      <th>Dest_City_Market_ID</th>\n",
       "      <td>-0.020531</td>\n",
       "      <td>NaN</td>\n",
       "      <td>NaN</td>\n",
       "      <td>-0.052778</td>\n",
       "      <td>-0.055409</td>\n",
       "      <td>-0.055407</td>\n",
       "      <td>-0.136783</td>\n",
       "      <td>-0.031464</td>\n",
       "      <td>0.653258</td>\n",
       "      <td>0.653257</td>\n",
       "      <td>1.000000</td>\n",
       "      <td>-0.127339</td>\n",
       "      <td>0.058486</td>\n",
       "      <td>-0.014331</td>\n",
       "      <td>-0.018811</td>\n",
       "    </tr>\n",
       "    <tr>\n",
       "      <th>Dest_WAC</th>\n",
       "      <td>0.199376</td>\n",
       "      <td>NaN</td>\n",
       "      <td>NaN</td>\n",
       "      <td>-0.039942</td>\n",
       "      <td>0.016525</td>\n",
       "      <td>0.016526</td>\n",
       "      <td>-0.072878</td>\n",
       "      <td>0.270098</td>\n",
       "      <td>0.133666</td>\n",
       "      <td>0.133668</td>\n",
       "      <td>-0.127339</td>\n",
       "      <td>1.000000</td>\n",
       "      <td>0.167289</td>\n",
       "      <td>0.042495</td>\n",
       "      <td>0.058623</td>\n",
       "    </tr>\n",
       "    <tr>\n",
       "      <th>Flight_Distance</th>\n",
       "      <td>0.199775</td>\n",
       "      <td>NaN</td>\n",
       "      <td>NaN</td>\n",
       "      <td>-0.092409</td>\n",
       "      <td>0.134343</td>\n",
       "      <td>0.134345</td>\n",
       "      <td>0.064475</td>\n",
       "      <td>0.110287</td>\n",
       "      <td>0.160709</td>\n",
       "      <td>0.160711</td>\n",
       "      <td>0.058486</td>\n",
       "      <td>0.167289</td>\n",
       "      <td>1.000000</td>\n",
       "      <td>0.138802</td>\n",
       "      <td>0.027950</td>\n",
       "    </tr>\n",
       "    <tr>\n",
       "      <th>Fare</th>\n",
       "      <td>-0.005896</td>\n",
       "      <td>NaN</td>\n",
       "      <td>NaN</td>\n",
       "      <td>0.233838</td>\n",
       "      <td>-0.008612</td>\n",
       "      <td>-0.008611</td>\n",
       "      <td>-0.007483</td>\n",
       "      <td>0.057425</td>\n",
       "      <td>0.002859</td>\n",
       "      <td>0.002860</td>\n",
       "      <td>-0.014331</td>\n",
       "      <td>0.042495</td>\n",
       "      <td>0.138802</td>\n",
       "      <td>1.000000</td>\n",
       "      <td>-0.074069</td>\n",
       "    </tr>\n",
       "    <tr>\n",
       "      <th>Number_Passengers</th>\n",
       "      <td>0.062794</td>\n",
       "      <td>NaN</td>\n",
       "      <td>NaN</td>\n",
       "      <td>-0.162664</td>\n",
       "      <td>0.017811</td>\n",
       "      <td>0.017811</td>\n",
       "      <td>-0.015242</td>\n",
       "      <td>0.022769</td>\n",
       "      <td>0.007754</td>\n",
       "      <td>0.007754</td>\n",
       "      <td>-0.018811</td>\n",
       "      <td>0.058623</td>\n",
       "      <td>0.027950</td>\n",
       "      <td>-0.074069</td>\n",
       "      <td>1.000000</td>\n",
       "    </tr>\n",
       "  </tbody>\n",
       "</table>\n",
       "</div>"
      ],
      "text/plain": [
       "                       Itinerary_ID  Year  Quarter  Number_Coupons  \\\n",
       "Itinerary_ID               1.000000   NaN      NaN       -0.072104   \n",
       "Year                            NaN   NaN      NaN             NaN   \n",
       "Quarter                         NaN   NaN      NaN             NaN   \n",
       "Number_Coupons            -0.072104   NaN      NaN        1.000000   \n",
       "Origin_Airport_ID          0.034343   NaN      NaN       -0.017070   \n",
       "Origin_Airport_Seq_ID      0.034343   NaN      NaN       -0.017069   \n",
       "Origin_City_Market_ID     -0.048618   NaN      NaN       -0.013658   \n",
       "Origin_WAC                 0.179299   NaN      NaN        0.003539   \n",
       "Dest_Airport_ID            0.069650   NaN      NaN       -0.101578   \n",
       "Dest_Airport_Seq_ID        0.069650   NaN      NaN       -0.101578   \n",
       "Dest_City_Market_ID       -0.020531   NaN      NaN       -0.052778   \n",
       "Dest_WAC                   0.199376   NaN      NaN       -0.039942   \n",
       "Flight_Distance            0.199775   NaN      NaN       -0.092409   \n",
       "Fare                      -0.005896   NaN      NaN        0.233838   \n",
       "Number_Passengers          0.062794   NaN      NaN       -0.162664   \n",
       "\n",
       "                       Origin_Airport_ID  Origin_Airport_Seq_ID  \\\n",
       "Itinerary_ID                    0.034343               0.034343   \n",
       "Year                                 NaN                    NaN   \n",
       "Quarter                              NaN                    NaN   \n",
       "Number_Coupons                 -0.017070              -0.017069   \n",
       "Origin_Airport_ID               1.000000               1.000000   \n",
       "Origin_Airport_Seq_ID           1.000000               1.000000   \n",
       "Origin_City_Market_ID           0.672392               0.672392   \n",
       "Origin_WAC                      0.114074               0.114077   \n",
       "Dest_Airport_ID                -0.010295              -0.010293   \n",
       "Dest_Airport_Seq_ID            -0.010294              -0.010293   \n",
       "Dest_City_Market_ID            -0.055409              -0.055407   \n",
       "Dest_WAC                        0.016525               0.016526   \n",
       "Flight_Distance                 0.134343               0.134345   \n",
       "Fare                           -0.008612              -0.008611   \n",
       "Number_Passengers               0.017811               0.017811   \n",
       "\n",
       "                       Origin_City_Market_ID  Origin_WAC  Dest_Airport_ID  \\\n",
       "Itinerary_ID                       -0.048618    0.179299         0.069650   \n",
       "Year                                     NaN         NaN              NaN   \n",
       "Quarter                                  NaN         NaN              NaN   \n",
       "Number_Coupons                     -0.013658    0.003539        -0.101578   \n",
       "Origin_Airport_ID                   0.672392    0.114074        -0.010295   \n",
       "Origin_Airport_Seq_ID               0.672392    0.114077        -0.010293   \n",
       "Origin_City_Market_ID               1.000000   -0.141665        -0.072792   \n",
       "Origin_WAC                         -0.141665    1.000000         0.071786   \n",
       "Dest_Airport_ID                    -0.072792    0.071786         1.000000   \n",
       "Dest_Airport_Seq_ID                -0.072791    0.071786         1.000000   \n",
       "Dest_City_Market_ID                -0.136783   -0.031464         0.653258   \n",
       "Dest_WAC                           -0.072878    0.270098         0.133666   \n",
       "Flight_Distance                     0.064475    0.110287         0.160709   \n",
       "Fare                               -0.007483    0.057425         0.002859   \n",
       "Number_Passengers                  -0.015242    0.022769         0.007754   \n",
       "\n",
       "                       Dest_Airport_Seq_ID  Dest_City_Market_ID  Dest_WAC  \\\n",
       "Itinerary_ID                      0.069650            -0.020531  0.199376   \n",
       "Year                                   NaN                  NaN       NaN   \n",
       "Quarter                                NaN                  NaN       NaN   \n",
       "Number_Coupons                   -0.101578            -0.052778 -0.039942   \n",
       "Origin_Airport_ID                -0.010294            -0.055409  0.016525   \n",
       "Origin_Airport_Seq_ID            -0.010293            -0.055407  0.016526   \n",
       "Origin_City_Market_ID            -0.072791            -0.136783 -0.072878   \n",
       "Origin_WAC                        0.071786            -0.031464  0.270098   \n",
       "Dest_Airport_ID                   1.000000             0.653258  0.133666   \n",
       "Dest_Airport_Seq_ID               1.000000             0.653257  0.133668   \n",
       "Dest_City_Market_ID               0.653257             1.000000 -0.127339   \n",
       "Dest_WAC                          0.133668            -0.127339  1.000000   \n",
       "Flight_Distance                   0.160711             0.058486  0.167289   \n",
       "Fare                              0.002860            -0.014331  0.042495   \n",
       "Number_Passengers                 0.007754            -0.018811  0.058623   \n",
       "\n",
       "                       Flight_Distance      Fare  Number_Passengers  \n",
       "Itinerary_ID                  0.199775 -0.005896           0.062794  \n",
       "Year                               NaN       NaN                NaN  \n",
       "Quarter                            NaN       NaN                NaN  \n",
       "Number_Coupons               -0.092409  0.233838          -0.162664  \n",
       "Origin_Airport_ID             0.134343 -0.008612           0.017811  \n",
       "Origin_Airport_Seq_ID         0.134345 -0.008611           0.017811  \n",
       "Origin_City_Market_ID         0.064475 -0.007483          -0.015242  \n",
       "Origin_WAC                    0.110287  0.057425           0.022769  \n",
       "Dest_Airport_ID               0.160709  0.002859           0.007754  \n",
       "Dest_Airport_Seq_ID           0.160711  0.002860           0.007754  \n",
       "Dest_City_Market_ID           0.058486 -0.014331          -0.018811  \n",
       "Dest_WAC                      0.167289  0.042495           0.058623  \n",
       "Flight_Distance               1.000000  0.138802           0.027950  \n",
       "Fare                          0.138802  1.000000          -0.074069  \n",
       "Number_Passengers             0.027950 -0.074069           1.000000  "
      ]
     },
     "execution_count": 8,
     "metadata": {},
     "output_type": "execute_result"
    }
   ],
   "source": [
    "corrs = df.corr()\n",
    "corrs"
   ]
  },
  {
   "cell_type": "code",
   "execution_count": 9,
   "metadata": {},
   "outputs": [
    {
     "data": {
      "text/plain": [
       "<matplotlib.axes._subplots.AxesSubplot at 0x2c9e5b0ca88>"
      ]
     },
     "execution_count": 9,
     "metadata": {},
     "output_type": "execute_result"
    },
    {
     "data": {
      "image/png": "[encoded data removed]",
      "text/plain": [
       "<Figure size 432x288 with 2 Axes>"
      ]
     },
     "metadata": {
      "needs_background": "light"
     },
     "output_type": "display_data"
    }
   ],
   "source": [
    "sn.heatmap(corrs)"
   ]
  },
  {
   "cell_type": "code",
   "execution_count": 10,
   "metadata": {},
   "outputs": [
    {
     "data": {
      "text/plain": [
       "Fare                     1.000000\n",
       "Number_Coupons           0.233838\n",
       "Flight_Distance          0.138802\n",
       "Number_Passengers        0.074069\n",
       "Origin_WAC               0.057425\n",
       "Dest_WAC                 0.042495\n",
       "Dest_City_Market_ID      0.014331\n",
       "Origin_Airport_ID        0.008612\n",
       "Origin_Airport_Seq_ID    0.008611\n",
       "Origin_City_Market_ID    0.007483\n",
       "Itinerary_ID             0.005896\n",
       "Dest_Airport_Seq_ID      0.002860\n",
       "Dest_Airport_ID          0.002859\n",
       "Year                          NaN\n",
       "Quarter                       NaN\n",
       "Name: Fare, dtype: float64"
      ]
     },
     "execution_count": 10,
     "metadata": {},
     "output_type": "execute_result"
    }
   ],
   "source": [
    "abs(corrs[\"Fare\"]).sort_values(ascending=False)"
   ]
  },
  {
   "cell_type": "code",
   "execution_count": 11,
   "metadata": {},
   "outputs": [
    {
     "data": {
      "text/plain": [
       "['Number_Coupons', 'Flight_Distance']"
      ]
     },
     "execution_count": 11,
     "metadata": {},
     "output_type": "execute_result"
    }
   ],
   "source": [
    "features = list(corrs[\"Fare\"].loc[abs(corrs[\"Fare\"]) > .1].index)\n",
    "features = features[0:len(features)-1]\n",
    "features"
   ]
  },
  {
   "cell_type": "code",
   "execution_count": 12,
   "metadata": {},
   "outputs": [],
   "source": [
    "target_col = \"Fare\""
   ]
  },
  {
   "cell_type": "code",
   "execution_count": 13,
   "metadata": {},
   "outputs": [
    {
     "data": {
      "image/png": "[encoded data removed]",
      "text/plain": [
       "<Figure size 432x288 with 1 Axes>"
      ]
     },
     "metadata": {
      "needs_background": "light"
     },
     "output_type": "display_data"
    },
    {
     "data": {
      "image/png": "[encoded data removed]",
      "text/plain": [
       "<Figure size 432x288 with 1 Axes>"
      ]
     },
     "metadata": {
      "needs_background": "light"
     },
     "output_type": "display_data"
    }
   ],
   "source": [
    "for col in features:\n",
    "    df[[col]].hist()"
   ]
  },
  {
   "cell_type": "code",
   "execution_count": 14,
   "metadata": {},
   "outputs": [],
   "source": [
    "#split the data\n",
    "X = df[features]\n",
    "y = df[target_col].values.reshape(-1, 1)\n",
    "\n",
    "X_train, X_test, y_train, y_test = train_test_split(X, y, random_state=42, test_size=0.2)"
   ]
  },
  {
   "cell_type": "code",
   "execution_count": 15,
   "metadata": {},
   "outputs": [
    {
     "name": "stdout",
     "output_type": "stream",
     "text": [
      "(2625, 2) (2625, 1)\n"
     ]
    }
   ],
   "source": [
    "print(X.shape, y.shape)"
   ]
  },
  {
   "cell_type": "code",
   "execution_count": 16,
   "metadata": {},
   "outputs": [],
   "source": [
    "# Use train_test_split to create training and testing data\n",
    "\n",
    "from sklearn.model_selection import train_test_split\n",
    "\n",
    "X_train, X_test, y_train, y_test = train_test_split(X, y, random_state=42, train_size=0.8)"
   ]
  },
  {
   "cell_type": "code",
   "execution_count": 17,
   "metadata": {},
   "outputs": [
    {
     "name": "stdout",
     "output_type": "stream",
     "text": [
      "2100\n",
      "525\n"
     ]
    }
   ],
   "source": [
    "print(len(X_train))\n",
    "print(len(X_test))"
   ]
  },
  {
   "cell_type": "code",
   "execution_count": 18,
   "metadata": {},
   "outputs": [],
   "source": [
    "#SCALE \n",
    "X_scaler = StandardScaler().fit(X_train)\n",
    "\n",
    "#scale train/test\n",
    "X_train_scaled = X_scaler.transform(X_train)\n",
    "X_test_scaled = X_scaler.transform(X_test)"
   ]
  },
  {
   "cell_type": "code",
   "execution_count": 19,
   "metadata": {},
   "outputs": [
    {
     "data": {
      "text/plain": [
       "LinearRegression(copy_X=True, fit_intercept=True, n_jobs=None, normalize=False)"
      ]
     },
     "execution_count": 19,
     "metadata": {},
     "output_type": "execute_result"
    }
   ],
   "source": [
    " # Create the model using LinearRegression\n",
    "\n",
    "from sklearn.linear_model import LinearRegression\n",
    "\n",
    "lm = LinearRegression()\n",
    "lm"
   ]
  },
  {
   "cell_type": "code",
   "execution_count": 20,
   "metadata": {},
   "outputs": [
    {
     "data": {
      "text/plain": [
       "LinearRegression(copy_X=True, fit_intercept=True, n_jobs=None, normalize=False)"
      ]
     },
     "execution_count": 20,
     "metadata": {},
     "output_type": "execute_result"
    }
   ],
   "source": [
    "lm.fit(X_train_scaled, y_train)\n",
    "lm"
   ]
  },
  {
   "cell_type": "code",
   "execution_count": 21,
   "metadata": {},
   "outputs": [],
   "source": [
    "predictions_train_lm = lm.predict(X_train_scaled)\n",
    "predictions_test_lm = lm.predict(X_test_scaled)"
   ]
  },
  {
   "cell_type": "code",
   "execution_count": 22,
   "metadata": {},
   "outputs": [],
   "source": [
    "from sklearn.metrics import mean_squared_error, r2_score"
   ]
  },
  {
   "cell_type": "code",
   "execution_count": 23,
   "metadata": {},
   "outputs": [
    {
     "name": "stdout",
     "output_type": "stream",
     "text": [
      "104146.4289249345\n",
      "0.07711642166602517\n"
     ]
    }
   ],
   "source": [
    "mse_train_lm = mean_squared_error(y_train, predictions_train_lm)\n",
    "r2_train_lm = r2_score(y_train, predictions_train_lm)\n",
    "\n",
    "print(mse_train_lm)\n",
    "print(r2_train_lm)"
   ]
  },
  {
   "cell_type": "code",
   "execution_count": 25,
   "metadata": {},
   "outputs": [
    {
     "name": "stdout",
     "output_type": "stream",
     "text": [
      "176825.87592687443\n",
      "0.08603232924194937\n"
     ]
    }
   ],
   "source": [
    "mse_test_lm = mean_squared_error(y_test, predictions_test_lm)\n",
    "r2_test_lm = r2_score(y_test, predictions_test_lm)\n",
    "\n",
    "print(mse_test_lm)\n",
    "print(r2_test_lm)"
   ]
  },
  {
   "cell_type": "code",
   "execution_count": 26,
   "metadata": {},
   "outputs": [],
   "source": [
    "import random"
   ]
  },
  {
   "cell_type": "code",
   "execution_count": 27,
   "metadata": {},
   "outputs": [],
   "source": [
    "random.seed(42)\n",
    "\n",
    "mse_train_lm_list = []\n",
    "r2_train_lm_list = []\n",
    "\n",
    "mse_test_lm_list = []\n",
    "r2_test_lm_list = []\n",
    "\n",
    "for i in range(10):\n",
    "    random_state = random.randint(0, 5000)\n",
    "    X_train, X_test, y_train, y_test = train_test_split(X, y, random_state=random_state, train_size=0.8)\n",
    "    \n",
    "    X_scaler = StandardScaler().fit(X_train)\n",
    "\n",
    "    X_train_scaled = X_scaler.transform(X_train)\n",
    "    X_test_scaled = X_scaler.transform(X_test)\n",
    "\n",
    "    lm = LinearRegression()\n",
    "    lm.fit(X_train_scaled, y_train)\n",
    "\n",
    "    predictions_train_lm = lm.predict(X_train_scaled)\n",
    "    predictions_test_lm = lm.predict(X_test_scaled)\n",
    "    \n",
    "    mse_train_lm = mean_squared_error(y_train, predictions_train_lm)\n",
    "    r2_train_lm = r2_score(y_train, predictions_train_lm)\n",
    "    mse_test_lm = mean_squared_error(y_test, predictions_test_lm)\n",
    "    r2_test_lm = r2_score(y_test, predictions_test_lm)\n",
    "\n",
    "    mse_train_lm_list.append(mse_train_lm)\n",
    "    r2_train_lm_list.append(r2_train_lm)\n",
    "    mse_test_lm_list.append(mse_test_lm)\n",
    "    r2_test_lm_list.append(r2_test_lm)"
   ]
  },
  {
   "cell_type": "code",
   "execution_count": 28,
   "metadata": {},
   "outputs": [
    {
     "data": {
      "image/png": "[encoded data removed]",
      "text/plain": [
       "<Figure size 432x288 with 1 Axes>"
      ]
     },
     "metadata": {
      "needs_background": "light"
     },
     "output_type": "display_data"
    }
   ],
   "source": [
    "plt.plot(range(10), mse_train_lm_list, label=\"train\")\n",
    "plt.plot(range(10), mse_test_lm_list, label=\"test\")\n",
    "plt.title(\"K-Fold MSE LM\")\n",
    "plt.xlabel(\"K-Fold\")\n",
    "plt.ylabel(\"MSE\")\n",
    "plt.legend()\n",
    "plt.show()"
   ]
  },
  {
   "cell_type": "code",
   "execution_count": 29,
   "metadata": {},
   "outputs": [
    {
     "data": {
      "image/png": "[encoded data removed]",
      "text/plain": [
       "<Figure size 432x288 with 1 Axes>"
      ]
     },
     "metadata": {
      "needs_background": "light"
     },
     "output_type": "display_data"
    }
   ],
   "source": [
    "plt.plot(range(10), r2_train_lm_list, label=\"train\")\n",
    "plt.plot(range(10), r2_test_lm_list, label=\"test\")\n",
    "plt.title(\"K-Fold MSE LM\")\n",
    "plt.xlabel(\"K-Fold\")\n",
    "plt.ylabel(\"R2\")\n",
    "plt.legend()\n",
    "plt.show()"
   ]
  },
  {
   "cell_type": "code",
   "execution_count": 30,
   "metadata": {},
   "outputs": [
    {
     "name": "stdout",
     "output_type": "stream",
     "text": [
      "117407.16405861129\n",
      "0.07185556667898696\n",
      "130224.20585213903\n",
      "0.10854060924128661\n"
     ]
    }
   ],
   "source": [
    "print(np.mean(mse_train_lm_list))\n",
    "print(np.mean(r2_train_lm))\n",
    "print(np.mean(mse_test_lm))\n",
    "print(np.mean(r2_test_lm))"
   ]
  },
  {
   "cell_type": "code",
   "execution_count": 31,
   "metadata": {},
   "outputs": [
    {
     "data": {
      "image/png": "[encoded data removed]",
      "text/plain": [
       "<Figure size 432x288 with 1 Axes>"
      ]
     },
     "metadata": {
      "needs_background": "light"
     },
     "output_type": "display_data"
    }
   ],
   "source": [
    "plt.scatter(predictions_train_lm, y_train)\n",
    "plt.title(\"LM TRAIN Predicted vs Actual\")\n",
    "plt.xlabel(\"predicted\")\n",
    "plt.ylabel(\"actual\")\n",
    "\n",
    "plt.show()"
   ]
  },
  {
   "cell_type": "code",
   "execution_count": 32,
   "metadata": {},
   "outputs": [
    {
     "data": {
      "image/png": "[encoded data removed]",
      "text/plain": [
       "<Figure size 432x288 with 1 Axes>"
      ]
     },
     "metadata": {
      "needs_background": "light"
     },
     "output_type": "display_data"
    }
   ],
   "source": [
    "plt.scatter(predictions_test_lm, y_test)\n",
    "plt.title(\"LM TEST Predicted vs Actual\")\n",
    "plt.xlabel(\"predicted\")\n",
    "plt.ylabel(\"actual\")\n",
    "\n",
    "plt.show()"
   ]
  },
  {
   "cell_type": "code",
   "execution_count": 33,
   "metadata": {},
   "outputs": [],
   "source": [
    "resid_train_lm = predictions_train_lm - y_train\n",
    "resid_test_lm = predictions_test_lm - y_test"
   ]
  },
  {
   "cell_type": "code",
   "execution_count": 34,
   "metadata": {},
   "outputs": [
    {
     "data": {
      "image/png": "[encoded data removed]",
      "text/plain": [
       "<Figure size 432x288 with 1 Axes>"
      ]
     },
     "metadata": {
      "needs_background": "light"
     },
     "output_type": "display_data"
    }
   ],
   "source": [
    "plt.scatter(range(len(resid_train_lm)), resid_train_lm)\n",
    "plt.title(\"LM TRAIN Residual Plot\")\n",
    "plt.xlabel(\"index\")\n",
    "plt.ylabel(\"residual\")\n",
    "\n",
    "plt.show()"
   ]
  },
  {
   "cell_type": "code",
   "execution_count": 35,
   "metadata": {},
   "outputs": [
    {
     "data": {
      "image/png": "[encoded data removed]",
      "text/plain": [
       "<Figure size 432x288 with 1 Axes>"
      ]
     },
     "metadata": {
      "needs_background": "light"
     },
     "output_type": "display_data"
    }
   ],
   "source": [
    "plt.scatter(range(len(resid_test_lm)), resid_test_lm)\n",
    "plt.title(\"LM TEST Residual Plot\")\n",
    "plt.xlabel(\"index\")\n",
    "plt.ylabel(\"residual\")\n",
    "\n",
    "plt.show()"
   ]
  },
  {
   "cell_type": "code",
   "execution_count": 36,
   "metadata": {},
   "outputs": [
    {
     "data": {
      "text/plain": [
       "RandomForestRegressor(bootstrap=True, ccp_alpha=0.0, criterion='mse',\n",
       "                      max_depth=None, max_features='auto', max_leaf_nodes=None,\n",
       "                      max_samples=None, min_impurity_decrease=0.0,\n",
       "                      min_impurity_split=None, min_samples_leaf=1,\n",
       "                      min_samples_split=2, min_weight_fraction_leaf=0.0,\n",
       "                      n_estimators=100, n_jobs=None, oob_score=False,\n",
       "                      random_state=None, verbose=0, warm_start=False)"
      ]
     },
     "execution_count": 36,
     "metadata": {},
     "output_type": "execute_result"
    }
   ],
   "source": [
    "from sklearn.ensemble import RandomForestRegressor\n",
    "\n",
    "rf = RandomForestRegressor()\n",
    "rf"
   ]
  },
  {
   "cell_type": "code",
   "execution_count": 37,
   "metadata": {},
   "outputs": [],
   "source": [
    "X_scaler = StandardScaler().fit(X_train)\n",
    "\n",
    "X_train_scaled = X_scaler.transform(X_train)\n",
    "X_test_scaled = X_scaler.transform(X_test)"
   ]
  },
  {
   "cell_type": "code",
   "execution_count": 38,
   "metadata": {},
   "outputs": [
    {
     "name": "stderr",
     "output_type": "stream",
     "text": [
      "C:\\Users\\Maxi\\anaconda3\\lib\\site-packages\\ipykernel_launcher.py:1: DataConversionWarning: A column-vector y was passed when a 1d array was expected. Please change the shape of y to (n_samples,), for example using ravel().\n",
      "  \"\"\"Entry point for launching an IPython kernel.\n"
     ]
    },
    {
     "data": {
      "text/plain": [
       "RandomForestRegressor(bootstrap=True, ccp_alpha=0.0, criterion='mse',\n",
       "                      max_depth=None, max_features='auto', max_leaf_nodes=None,\n",
       "                      max_samples=None, min_impurity_decrease=0.0,\n",
       "                      min_impurity_split=None, min_samples_leaf=1,\n",
       "                      min_samples_split=2, min_weight_fraction_leaf=0.0,\n",
       "                      n_estimators=100, n_jobs=None, oob_score=False,\n",
       "                      random_state=None, verbose=0, warm_start=False)"
      ]
     },
     "execution_count": 38,
     "metadata": {},
     "output_type": "execute_result"
    }
   ],
   "source": [
    "rf.fit(X_train_scaled, y_train)\n",
    "rf"
   ]
  },
  {
   "cell_type": "code",
   "execution_count": 39,
   "metadata": {},
   "outputs": [],
   "source": [
    "predictions_train_rf = rf.predict(X_train_scaled)\n",
    "predictions_test_rf = rf.predict(X_test_scaled)"
   ]
  },
  {
   "cell_type": "code",
   "execution_count": 40,
   "metadata": {},
   "outputs": [
    {
     "name": "stdout",
     "output_type": "stream",
     "text": [
      "65073.283115851635\n",
      "0.47826598412310917\n"
     ]
    }
   ],
   "source": [
    "mse_train_rf = mean_squared_error(y_train, predictions_train_rf)\n",
    "r2_train_rf = r2_score(y_train, predictions_train_rf)\n",
    "\n",
    "print(mse_train_rf)\n",
    "print(r2_train_rf)"
   ]
  },
  {
   "cell_type": "code",
   "execution_count": 41,
   "metadata": {},
   "outputs": [
    {
     "name": "stdout",
     "output_type": "stream",
     "text": [
      "161636.15502687558\n",
      "-0.10649220198314335\n"
     ]
    }
   ],
   "source": [
    "mse_test_rf = mean_squared_error(y_test, predictions_test_rf)\n",
    "r2_test_rf = r2_score(y_test, predictions_test_rf)\n",
    "\n",
    "print(mse_test_rf)\n",
    "print(r2_test_rf)"
   ]
  },
  {
   "cell_type": "code",
   "execution_count": 42,
   "metadata": {},
   "outputs": [
    {
     "data": {
      "image/png": "[encoded data removed]",
      "text/plain": [
       "<Figure size 432x288 with 1 Axes>"
      ]
     },
     "metadata": {
      "needs_background": "light"
     },
     "output_type": "display_data"
    }
   ],
   "source": [
    "plt.scatter(predictions_train_rf, y_train)\n",
    "plt.title(\"RF TRAIN Predicted vs Actual\")\n",
    "plt.xlabel(\"predicted\")\n",
    "plt.ylabel(\"actual\")\n",
    "\n",
    "plt.show()"
   ]
  },
  {
   "cell_type": "code",
   "execution_count": 43,
   "metadata": {},
   "outputs": [
    {
     "data": {
      "image/png": "[encoded data removed]",
      "text/plain": [
       "<Figure size 432x288 with 1 Axes>"
      ]
     },
     "metadata": {
      "needs_background": "light"
     },
     "output_type": "display_data"
    }
   ],
   "source": [
    "plt.scatter(predictions_test_rf, y_test)\n",
    "plt.title(\"RF TEST Predicted vs Actual\")\n",
    "plt.xlabel(\"predicted\")\n",
    "plt.ylabel(\"actual\")\n",
    "\n",
    "plt.show()"
   ]
  },
  {
   "cell_type": "code",
   "execution_count": 44,
   "metadata": {},
   "outputs": [],
   "source": [
    "resid_train_rf = predictions_train_rf - [x[0] for x in y_train]\n",
    "resid_test_rf = predictions_test_rf - [x[0] for x in y_test]"
   ]
  },
  {
   "cell_type": "code",
   "execution_count": 45,
   "metadata": {},
   "outputs": [
    {
     "data": {
      "image/png": "[encoded data removed]",
      "text/plain": [
       "<Figure size 432x288 with 1 Axes>"
      ]
     },
     "metadata": {
      "needs_background": "light"
     },
     "output_type": "display_data"
    }
   ],
   "source": [
    "plt.scatter(range(len(resid_train_rf)), resid_train_rf)\n",
    "plt.title(\"RF TRAIN Residual Plot\")\n",
    "plt.xlabel(\"index\")\n",
    "plt.ylabel(\"residual\")\n",
    "\n",
    "plt.show()"
   ]
  },
  {
   "cell_type": "code",
   "execution_count": 46,
   "metadata": {},
   "outputs": [
    {
     "data": {
      "image/png": "[encoded data removed]",
      "text/plain": [
       "<Figure size 432x288 with 1 Axes>"
      ]
     },
     "metadata": {
      "needs_background": "light"
     },
     "output_type": "display_data"
    }
   ],
   "source": [
    "plt.scatter(range(len(resid_test_rf)), resid_test_rf)\n",
    "plt.title(\"RF TEST Residual Plot\")\n",
    "plt.xlabel(\"index\")\n",
    "plt.ylabel(\"residual\")\n",
    "\n",
    "plt.show()"
   ]
  },
  {
   "cell_type": "code",
   "execution_count": 47,
   "metadata": {},
   "outputs": [
    {
     "name": "stderr",
     "output_type": "stream",
     "text": [
      "C:\\Users\\Maxi\\anaconda3\\lib\\site-packages\\ipykernel_launcher.py:19: DataConversionWarning: A column-vector y was passed when a 1d array was expected. Please change the shape of y to (n_samples,), for example using ravel().\n",
      "C:\\Users\\Maxi\\anaconda3\\lib\\site-packages\\ipykernel_launcher.py:19: DataConversionWarning: A column-vector y was passed when a 1d array was expected. Please change the shape of y to (n_samples,), for example using ravel().\n",
      "C:\\Users\\Maxi\\anaconda3\\lib\\site-packages\\ipykernel_launcher.py:19: DataConversionWarning: A column-vector y was passed when a 1d array was expected. Please change the shape of y to (n_samples,), for example using ravel().\n",
      "C:\\Users\\Maxi\\anaconda3\\lib\\site-packages\\ipykernel_launcher.py:19: DataConversionWarning: A column-vector y was passed when a 1d array was expected. Please change the shape of y to (n_samples,), for example using ravel().\n",
      "C:\\Users\\Maxi\\anaconda3\\lib\\site-packages\\ipykernel_launcher.py:19: DataConversionWarning: A column-vector y was passed when a 1d array was expected. Please change the shape of y to (n_samples,), for example using ravel().\n",
      "C:\\Users\\Maxi\\anaconda3\\lib\\site-packages\\ipykernel_launcher.py:19: DataConversionWarning: A column-vector y was passed when a 1d array was expected. Please change the shape of y to (n_samples,), for example using ravel().\n",
      "C:\\Users\\Maxi\\anaconda3\\lib\\site-packages\\ipykernel_launcher.py:19: DataConversionWarning: A column-vector y was passed when a 1d array was expected. Please change the shape of y to (n_samples,), for example using ravel().\n",
      "C:\\Users\\Maxi\\anaconda3\\lib\\site-packages\\ipykernel_launcher.py:19: DataConversionWarning: A column-vector y was passed when a 1d array was expected. Please change the shape of y to (n_samples,), for example using ravel().\n",
      "C:\\Users\\Maxi\\anaconda3\\lib\\site-packages\\ipykernel_launcher.py:19: DataConversionWarning: A column-vector y was passed when a 1d array was expected. Please change the shape of y to (n_samples,), for example using ravel().\n",
      "C:\\Users\\Maxi\\anaconda3\\lib\\site-packages\\ipykernel_launcher.py:19: DataConversionWarning: A column-vector y was passed when a 1d array was expected. Please change the shape of y to (n_samples,), for example using ravel().\n"
     ]
    }
   ],
   "source": [
    "random.seed(42)\n",
    "\n",
    "mse_train_rf_list = []\n",
    "r2_train_rf_list = []\n",
    "\n",
    "mse_test_rf_list = []\n",
    "r2_test_rf_list = []\n",
    "\n",
    "for i in range(10):\n",
    "    random_state = random.randint(0, 5000)\n",
    "    X_train, X_test, y_train, y_test = train_test_split(X, y, random_state=random_state, train_size=0.8)\n",
    "    \n",
    "    X_scaler = StandardScaler().fit(X_train)\n",
    "\n",
    "    X_train_scaled = X_scaler.transform(X_train)\n",
    "    X_test_scaled = X_scaler.transform(X_test)\n",
    "\n",
    "    rf = RandomForestRegressor()\n",
    "    rf.fit(X_train_scaled, y_train)\n",
    "\n",
    "    predictions_train_rf = rf.predict(X_train_scaled)\n",
    "    predictions_test_rf = rf.predict(X_test_scaled)\n",
    "    \n",
    "    mse_train_rf = mean_squared_error(y_train, predictions_train_rf)\n",
    "    r2_train_rf = r2_score(y_train, predictions_train_rf)\n",
    "    mse_test_rf = mean_squared_error(y_test, predictions_test_rf)\n",
    "    r2_test_rf = r2_score(y_test, predictions_test_rf)\n",
    "\n",
    "    mse_train_rf_list.append(mse_train_rf)\n",
    "    r2_train_rf_list.append(r2_train_rf)\n",
    "    mse_test_rf_list.append(mse_test_rf)\n",
    "    r2_test_rf_list.append(r2_test_rf)"
   ]
  },
  {
   "cell_type": "code",
   "execution_count": 48,
   "metadata": {},
   "outputs": [
    {
     "data": {
      "image/png": "[encoded data removed]",
      "text/plain": [
       "<Figure size 432x288 with 1 Axes>"
      ]
     },
     "metadata": {
      "needs_background": "light"
     },
     "output_type": "display_data"
    }
   ],
   "source": [
    "plt.plot(range(10), mse_train_rf_list, label=\"train\")\n",
    "plt.plot(range(10), mse_test_rf_list, label=\"test\")\n",
    "plt.title(\"K-Fold MSE RF\")\n",
    "plt.xlabel(\"K-Fold\")\n",
    "plt.ylabel(\"MSE\")\n",
    "plt.legend()\n",
    "plt.show()"
   ]
  },
  {
   "cell_type": "code",
   "execution_count": 49,
   "metadata": {},
   "outputs": [
    {
     "data": {
      "image/png": "[encoded data removed]",
      "text/plain": [
       "<Figure size 432x288 with 1 Axes>"
      ]
     },
     "metadata": {
      "needs_background": "light"
     },
     "output_type": "display_data"
    }
   ],
   "source": [
    "plt.plot(range(10), r2_train_rf_list, label=\"train\")\n",
    "plt.plot(range(10), r2_test_rf_list, label=\"test\")\n",
    "plt.title(\"K-Fold MSE RF\")\n",
    "plt.xlabel(\"K-Fold\")\n",
    "plt.ylabel(\"R2\")\n",
    "plt.legend()\n",
    "plt.show()"
   ]
  },
  {
   "cell_type": "code",
   "execution_count": 50,
   "metadata": {},
   "outputs": [
    {
     "name": "stdout",
     "output_type": "stream",
     "text": [
      "66455.46155443166\n",
      "0.4795253904611245\n",
      "161221.9568325035\n",
      "-0.10365677774237247\n"
     ]
    }
   ],
   "source": [
    "print(np.mean(mse_train_rf_list))\n",
    "print(np.mean(r2_train_rf))\n",
    "print(np.mean(mse_test_rf))\n",
    "print(np.mean(r2_test_rf))"
   ]
  },
  {
   "cell_type": "code",
   "execution_count": null,
   "metadata": {},
   "outputs": [],
   "source": []
  },
  {
   "cell_type": "code",
   "execution_count": 51,
   "metadata": {},
   "outputs": [],
   "source": [
    "#SCALE on all the data\n",
    "X_scaler_prod = StandardScaler().fit(X)\n",
    "X_scaled_prod = X_scaler_prod.transform(X)"
   ]
  },
  {
   "cell_type": "code",
   "execution_count": 52,
   "metadata": {},
   "outputs": [
    {
     "name": "stderr",
     "output_type": "stream",
     "text": [
      "C:\\Users\\Maxi\\anaconda3\\lib\\site-packages\\ipykernel_launcher.py:2: DataConversionWarning: A column-vector y was passed when a 1d array was expected. Please change the shape of y to (n_samples,), for example using ravel().\n",
      "  \n"
     ]
    },
    {
     "data": {
      "text/plain": [
       "RandomForestRegressor(bootstrap=True, ccp_alpha=0.0, criterion='mse',\n",
       "                      max_depth=None, max_features='auto', max_leaf_nodes=None,\n",
       "                      max_samples=None, min_impurity_decrease=0.0,\n",
       "                      min_impurity_split=None, min_samples_leaf=1,\n",
       "                      min_samples_split=2, min_weight_fraction_leaf=0.0,\n",
       "                      n_estimators=100, n_jobs=None, oob_score=False,\n",
       "                      random_state=None, verbose=0, warm_start=False)"
      ]
     },
     "execution_count": 52,
     "metadata": {},
     "output_type": "execute_result"
    }
   ],
   "source": [
    "rf_prod = RandomForestRegressor()\n",
    "rf_prod.fit(X_scaled_prod, y)"
   ]
  },
  {
   "cell_type": "code",
   "execution_count": 53,
   "metadata": {},
   "outputs": [
    {
     "name": "stdout",
     "output_type": "stream",
     "text": [
      "69998.41670235594\n",
      "0.45736422665496723\n"
     ]
    }
   ],
   "source": [
    "predictions_prod_rf = rf_prod.predict(X_scaled_prod)\n",
    "mse_prod_rf = mean_squared_error(y, predictions_prod_rf)\n",
    "r2_prod_rf = r2_score(y, predictions_prod_rf)\n",
    "\n",
    "print(mse_prod_rf)\n",
    "print(r2_prod_rf)"
   ]
  },
  {
   "cell_type": "code",
   "execution_count": 54,
   "metadata": {},
   "outputs": [
    {
     "data": {
      "image/png": "[encoded data removed]",
      "text/plain": [
       "<Figure size 432x288 with 1 Axes>"
      ]
     },
     "metadata": {
      "needs_background": "light"
     },
     "output_type": "display_data"
    }
   ],
   "source": [
    "plt.scatter(predictions_prod_rf, y)\n",
    "plt.title(\"LM PROD Predicted vs Actual\")\n",
    "plt.xlabel(\"predicted\")\n",
    "plt.ylabel(\"actual\")\n",
    "\n",
    "plt.show()"
   ]
  },
  {
   "cell_type": "code",
   "execution_count": 55,
   "metadata": {},
   "outputs": [],
   "source": [
    "import pickle"
   ]
  },
  {
   "cell_type": "code",
   "execution_count": 63,
   "metadata": {},
   "outputs": [],
   "source": [
    "#save the scaler\n",
    "filename = 'finalized_scaler_meh.sav'\n",
    "pickle.dump(X_scaler_prod, open(filename, 'wb'))"
   ]
  },
  {
   "cell_type": "code",
   "execution_count": 64,
   "metadata": {},
   "outputs": [],
   "source": [
    "# save the model to disk\n",
    "filename = 'ml_rf_fp_meh.sav'\n",
    "pickle.dump(rf_prod, open(filename, 'wb'))"
   ]
  },
  {
   "cell_type": "code",
   "execution_count": 65,
   "metadata": {},
   "outputs": [],
   "source": [
    "loaded_scaler = pickle.load(open('finalized_scaler_meh.sav', 'rb'))\n",
    "loaded_model = pickle.load(open('ml_rf_fp_meh.sav', 'rb'))"
   ]
  },
  {
   "cell_type": "code",
   "execution_count": 66,
   "metadata": {},
   "outputs": [
    {
     "data": {
      "text/html": [
       "<div>\n",
       "<style scoped>\n",
       "    .dataframe tbody tr th:only-of-type {\n",
       "        vertical-align: middle;\n",
       "    }\n",
       "\n",
       "    .dataframe tbody tr th {\n",
       "        vertical-align: top;\n",
       "    }\n",
       "\n",
       "    .dataframe thead th {\n",
       "        text-align: right;\n",
       "    }\n",
       "</style>\n",
       "<table border=\"1\" class=\"dataframe\">\n",
       "  <thead>\n",
       "    <tr style=\"text-align: right;\">\n",
       "      <th></th>\n",
       "      <th>Number_Coupons</th>\n",
       "      <th>Flight_Distance</th>\n",
       "    </tr>\n",
       "  </thead>\n",
       "  <tbody>\n",
       "    <tr>\n",
       "      <th>178977</th>\n",
       "      <td>2</td>\n",
       "      <td>190</td>\n",
       "    </tr>\n",
       "    <tr>\n",
       "      <th>143072</th>\n",
       "      <td>4</td>\n",
       "      <td>431</td>\n",
       "    </tr>\n",
       "    <tr>\n",
       "      <th>216423</th>\n",
       "      <td>3</td>\n",
       "      <td>815</td>\n",
       "    </tr>\n",
       "    <tr>\n",
       "      <th>218209</th>\n",
       "      <td>2</td>\n",
       "      <td>416</td>\n",
       "    </tr>\n",
       "    <tr>\n",
       "      <th>5942</th>\n",
       "      <td>2</td>\n",
       "      <td>1121</td>\n",
       "    </tr>\n",
       "    <tr>\n",
       "      <th>...</th>\n",
       "      <td>...</td>\n",
       "      <td>...</td>\n",
       "    </tr>\n",
       "    <tr>\n",
       "      <th>260888</th>\n",
       "      <td>4</td>\n",
       "      <td>1723</td>\n",
       "    </tr>\n",
       "    <tr>\n",
       "      <th>25222</th>\n",
       "      <td>4</td>\n",
       "      <td>151</td>\n",
       "    </tr>\n",
       "    <tr>\n",
       "      <th>19850</th>\n",
       "      <td>4</td>\n",
       "      <td>304</td>\n",
       "    </tr>\n",
       "    <tr>\n",
       "      <th>17930</th>\n",
       "      <td>3</td>\n",
       "      <td>47</td>\n",
       "    </tr>\n",
       "    <tr>\n",
       "      <th>38738</th>\n",
       "      <td>4</td>\n",
       "      <td>235</td>\n",
       "    </tr>\n",
       "  </tbody>\n",
       "</table>\n",
       "<p>2625 rows × 2 columns</p>\n",
       "</div>"
      ],
      "text/plain": [
       "        Number_Coupons  Flight_Distance\n",
       "178977               2              190\n",
       "143072               4              431\n",
       "216423               3              815\n",
       "218209               2              416\n",
       "5942                 2             1121\n",
       "...                ...              ...\n",
       "260888               4             1723\n",
       "25222                4              151\n",
       "19850                4              304\n",
       "17930                3               47\n",
       "38738                4              235\n",
       "\n",
       "[2625 rows x 2 columns]"
      ]
     },
     "execution_count": 66,
     "metadata": {},
     "output_type": "execute_result"
    }
   ],
   "source": [
    "X"
   ]
  },
  {
   "cell_type": "code",
   "execution_count": 84,
   "metadata": {},
   "outputs": [],
   "source": [
    "tickets = 1\n",
    "miles = 500"
   ]
  },
  {
   "cell_type": "code",
   "execution_count": 85,
   "metadata": {},
   "outputs": [],
   "source": [
    "new_obs = [tickets, miles]"
   ]
  },
  {
   "cell_type": "code",
   "execution_count": 86,
   "metadata": {},
   "outputs": [
    {
     "data": {
      "text/plain": [
       "array([223.59516667])"
      ]
     },
     "execution_count": 86,
     "metadata": {},
     "output_type": "execute_result"
    }
   ],
   "source": [
    "newData_scaled = loaded_scaler.transform([new_obs])\n",
    "loaded_model.predict(newData_scaled)"
   ]
  },
  {
   "cell_type": "code",
   "execution_count": null,
   "metadata": {},
   "outputs": [],
   "source": []
  },
  {
   "cell_type": "code",
   "execution_count": null,
   "metadata": {},
   "outputs": [],
   "source": []
  }
 ],
 "metadata": {
  "kernelspec": {
   "display_name": "Python 3",
   "language": "python",
   "name": "python3"
  },
  "language_info": {
   "codemirror_mode": {
    "name": "ipython",
    "version": 3
   },
   "file_extension": ".py",
   "mimetype": "text/x-python",
   "name": "python",
   "nbconvert_exporter": "python",
   "pygments_lexer": "ipython3",
   "version": "3.7.6"
  }
 },
 "nbformat": 4,
 "nbformat_minor": 4
}
